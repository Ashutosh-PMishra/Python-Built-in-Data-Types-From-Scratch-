{
 "cells": [
  {
   "cell_type": "markdown",
   "metadata": {},
   "source": [
    "Hello Learners 🙂 \n",
    "Python Collections (Arrays) {Python Built-in data types}\n",
    "There are four collection data types in Python Programming Language :\n",
    "1. List\n",
    "2. Tuple ►\n",
    "3. Set\n",
    "4. Dictionary"
   ]
  },
  {
   "cell_type": "markdown",
   "metadata": {},
   "source": [
    "2. Tuple \n",
    "Definition :\n",
    "► Tuples are used to store multiple items in a single variable. \n",
    "► Tuple is one of the 4 built-in data types in Python used to store collection of data.\n",
    "► A tuple is a collection which is ordered and unchangeable.\n",
    "► Tuples are written with round brackets ()."
   ]
  },
  {
   "cell_type": "markdown",
   "metadata": {},
   "source": [
    "2.1 ► Create a Tuple"
   ]
  },
  {
   "cell_type": "code",
   "execution_count": 2,
   "metadata": {},
   "outputs": [
    {
     "name": "stdout",
     "output_type": "stream",
     "text": [
      "('BMW', 'FORD', 'AUDI')\n"
     ]
    }
   ],
   "source": [
    "my_tuple = (\"BMW\",\"FORD\",\"AUDI\")\n",
    "print(my_tuple)"
   ]
  },
  {
   "cell_type": "markdown",
   "metadata": {},
   "source": [
    "2.2 ► Tuple Items \n",
    "Tuple items are ordered, unchangable and allow duplicate values."
   ]
  },
  {
   "cell_type": "code",
   "execution_count": 3,
   "metadata": {},
   "outputs": [
    {
     "name": "stdout",
     "output_type": "stream",
     "text": [
      "('BMW', 'FORD', 'AUDI', 'BMW', 'AUDI', 'TATA')\n"
     ]
    }
   ],
   "source": [
    "my_tuple = (\"BMW\",\"FORD\",\"AUDI\",\"BMW\",\"AUDI\",\"TATA\")\n",
    "print(my_tuple)"
   ]
  },
  {
   "cell_type": "markdown",
   "metadata": {},
   "source": [
    "2.3 ► Tuple Length\n",
    "To determine how many items a tuple has , we will use len() function."
   ]
  },
  {
   "cell_type": "code",
   "execution_count": 5,
   "metadata": {},
   "outputs": [
    {
     "name": "stdout",
     "output_type": "stream",
     "text": [
      "4\n"
     ]
    }
   ],
   "source": [
    "my_tuple = (\"BMW\",\"FORD\",\"AUDI\",\"TATA\")\n",
    "print(len(my_tuple))"
   ]
  },
  {
   "cell_type": "markdown",
   "metadata": {},
   "source": [
    "2.4 ► Create a tuple with one item & Type \n",
    "To create a tuple with only one item, you have to add a comma after the item,\n",
    " otherwise Python will not recognize it as a tuple."
   ]
  },
  {
   "cell_type": "code",
   "execution_count": 7,
   "metadata": {},
   "outputs": [
    {
     "name": "stdout",
     "output_type": "stream",
     "text": [
      "('Simplified_Learner',)\n",
      "<class 'tuple'>\n"
     ]
    }
   ],
   "source": [
    "my_tuple = (\"Simplified_Learner\",)\n",
    "print(my_tuple)\n",
    "print(type(my_tuple))"
   ]
  },
  {
   "cell_type": "code",
   "execution_count": 8,
   "metadata": {},
   "outputs": [
    {
     "name": "stdout",
     "output_type": "stream",
     "text": [
      "Simplified_Learner\n",
      "<class 'str'>\n"
     ]
    }
   ],
   "source": [
    "#NOT A TUPLE\n",
    "my_tuple = (\"Simplified_Learner\")\n",
    "print(my_tuple)\n",
    "print(type(my_tuple))"
   ]
  },
  {
   "cell_type": "markdown",
   "metadata": {},
   "source": [
    "2.5 ► Tuple Items - Data types\n",
    "Tuple items can be of any data type:\n",
    "A tuple can contain different data types:\n",
    "A tuple with strings, integers and boolean values:"
   ]
  },
  {
   "cell_type": "code",
   "execution_count": 9,
   "metadata": {},
   "outputs": [
    {
     "name": "stdout",
     "output_type": "stream",
     "text": [
      "('BMW', 'FORD', 'AUDI', 'TATA')\n",
      "(1, 5, 8, 79, 100, 895)\n",
      "(True, False, False, True)\n"
     ]
    }
   ],
   "source": [
    "#Tuple items can be of any data type:\n",
    "tuple1 = (\"BMW\",\"FORD\",\"AUDI\",\"TATA\")\n",
    "tuple2 = (1,5,8,79,100,895)\n",
    "tuple3 = (True, False, False, True)\n",
    "\n",
    "print(tuple1)\n",
    "print(tuple2)\n",
    "print(tuple3)"
   ]
  },
  {
   "cell_type": "code",
   "execution_count": 10,
   "metadata": {},
   "outputs": [
    {
     "name": "stdout",
     "output_type": "stream",
     "text": [
      "('abc', 'Hello', 25, True, 'Simplified_Learner', -1, False)\n"
     ]
    }
   ],
   "source": [
    "# A tuple can contain different data types:\n",
    "# A tuple with strings, integers and boolean values:\n",
    "\n",
    "my_tuple = (\"abc\",\"Hello\",25,True,\"Simplified_Learner\",-1,False)\n",
    "print(my_tuple)\n"
   ]
  },
  {
   "cell_type": "markdown",
   "metadata": {},
   "source": [
    "2.6 ► Access Tuple Items\n",
    "We can access tuple items by referring to the index number, inside square brackets:\n",
    "NOTE : The first has index 0"
   ]
  },
  {
   "cell_type": "code",
   "execution_count": 21,
   "metadata": {},
   "outputs": [
    {
     "name": "stdout",
     "output_type": "stream",
     "text": [
      "25\n"
     ]
    }
   ],
   "source": [
    "my_tuple = (\"abc\",\"Hello\",25,True,\"Simplified_Learner\",-1,False)\n",
    "print(my_tuple[2])"
   ]
  },
  {
   "cell_type": "markdown",
   "metadata": {},
   "source": [
    "► Negative Indexing\n",
    "means start from end, -1 refers to last items ,-2 second last and so on"
   ]
  },
  {
   "cell_type": "code",
   "execution_count": 11,
   "metadata": {},
   "outputs": [
    {
     "name": "stdout",
     "output_type": "stream",
     "text": [
      "Simplified_Learner\n"
     ]
    }
   ],
   "source": [
    "my_tuple = (\"abc\",\"Hello\",25,True,\"Simplified_Learner\",-1,\"I am at last\")\n",
    "print(my_tuple[-3])"
   ]
  },
  {
   "cell_type": "markdown",
   "metadata": {},
   "source": [
    "► Range if Indexes\n",
    "we can get a range of indexes by specifying where to start and end.\n",
    "The return values will be a new tuple"
   ]
  },
  {
   "cell_type": "code",
   "execution_count": 22,
   "metadata": {},
   "outputs": [
    {
     "name": "stdout",
     "output_type": "stream",
     "text": [
      "9\n",
      "('China', 'India', 'Mango', 'America')\n",
      "('Apple', 'Banana', 'China', 'India', 'Mango', 'America', 15, True)\n"
     ]
    }
   ],
   "source": [
    "my_tuple = (\"Apple\",\"Banana\",\"China\",\"India\",\"Mango\",\"America\",15,True,\"Simplified Learner\")\n",
    "print(len(my_tuple))\n",
    "\n",
    "#positive range\n",
    "print(my_tuple[2:6])\n",
    "\n",
    "#negative range\n",
    "print(my_tuple[-9 : -1 ])"
   ]
  },
  {
   "cell_type": "markdown",
   "metadata": {},
   "source": [
    "NOTE : Remember that the search will start at index we specify and end at index just before the index we have specified. "
   ]
  },
  {
   "cell_type": "code",
   "execution_count": 20,
   "metadata": {},
   "outputs": [
    {
     "name": "stdout",
     "output_type": "stream",
     "text": [
      "('Apple', 'Banana', 'China', 'India')\n",
      "('China', 'India', 'Mango', 'America')\n",
      "('India', 'Mango', 'America', 15)\n",
      "('Mango', 'America', 15, True, 'Simplified Learner')\n"
     ]
    }
   ],
   "source": [
    "my_tuple = (\"Apple\",\"Banana\",\"China\",\"India\",\"Mango\",\"America\",15,True,\"Simplified Learner\")\n",
    "#start from beginning to index 4(not included)\n",
    "print(my_tuple[:4])\n",
    "\n",
    "print(my_tuple[2:6])\n",
    "\n",
    "print(my_tuple[-6:-2])\n",
    "\n",
    "#start from index 4(Mango) to the end\n",
    "print(my_tuple[4:])"
   ]
  },
  {
   "cell_type": "markdown",
   "metadata": {},
   "source": [
    "2.7 ► Check if Item Exists\n",
    "To determine if a specified item is present in a tuple use the 'in' keyword:"
   ]
  },
  {
   "cell_type": "code",
   "execution_count": 24,
   "metadata": {},
   "outputs": [
    {
     "name": "stdout",
     "output_type": "stream",
     "text": [
      "Yes, 'Mango' is in the tuple.\n"
     ]
    }
   ],
   "source": [
    "my_tuple = (\"Apple\",\"Banana\",\"China\",\"India\",\"Mango\",\"America\",15,True,\"Simplified Learner\")\n",
    "if \"Mango\" in my_tuple:\n",
    "    print(\"Yes, 'Mango' is in the tuple.\")"
   ]
  },
  {
   "cell_type": "code",
   "execution_count": 29,
   "metadata": {},
   "outputs": [
    {
     "name": "stdout",
     "output_type": "stream",
     "text": [
      "Item is not in the tuple\n"
     ]
    }
   ],
   "source": [
    "# suppose if item is in the tuple\n",
    "my_tuple = (\"Apple\",\"Banana\",\"China\",\"India\",\"Mango\",\"America\",15,True,\"Simplified Learner\")\n",
    "if \"DELHI\" in my_tuple:\n",
    "    print(\"Yes, Item is in the tuple.\")\n",
    "else:\n",
    "    print(\"Item is not in the tuple\")"
   ]
  },
  {
   "cell_type": "markdown",
   "metadata": {},
   "source": [
    "2.8 ► Update Tuples\n",
    "→ Tuples are unchangeable, that means we cannot change, add, or remove items once the tuple is created.\n",
    "→ Tuples are unchangeable or immutable\n",
    "→ But there are some alternatives, we can convert the tuple into a list, \n",
    "change the list, and convert the list back into a tuple."
   ]
  },
  {
   "cell_type": "code",
   "execution_count": 34,
   "metadata": {},
   "outputs": [
    {
     "name": "stdout",
     "output_type": "stream",
     "text": [
      "('Apple', 'Pineapple', 'America', 'India', 'Mango', 'America', 'Simplified Learner')\n"
     ]
    }
   ],
   "source": [
    "#change \"Banana\" to \"Pineapple\"\n",
    "x = (\"Apple\",\"Banana\",\"America\",\"India\",\"Mango\",\"America\",\"Simplified Learner\")\n",
    "\n",
    "y = list(x)\n",
    "#print(y)\n",
    "\n",
    "y[1] = \"Pineapple\"\n",
    "#print(y)\n",
    "\n",
    "x = tuple(y)\n",
    "print(x)"
   ]
  },
  {
   "cell_type": "markdown",
   "metadata": {},
   "source": [
    "► Add Items\n",
    "Since tuples are immutable, they do not have a build-in append() method, \n",
    "but there are other ways to add items to a tuple.\n",
    "\n",
    "1. Convert into a list: \n",
    " we can convert tuple into a list, add our item(s), and convert it back into a tuple.\n",
    " Example : Convert the tuple into a list, add \"Bangalore\", and convert it back into a tuple"
   ]
  },
  {
   "cell_type": "code",
   "execution_count": 38,
   "metadata": {},
   "outputs": [
    {
     "name": "stdout",
     "output_type": "stream",
     "text": [
      "('Apple', 'Banana', 'America', 'India', 'Mango', 'America', 'Simplified Learner', 'Bangalore')\n"
     ]
    }
   ],
   "source": [
    "x = (\"Apple\",\"Banana\",\"America\",\"India\",\"Mango\",\"America\",\"Simplified Learner\")\n",
    "y = list(x)\n",
    "#print(y)\n",
    "\n",
    "y.append(\"Bangalore\") #append method add items to last\n",
    "#print(y)\n",
    "\n",
    "x = tuple(y)\n",
    "print(x)"
   ]
  },
  {
   "cell_type": "markdown",
   "metadata": {},
   "source": [
    "2. Add tuple to a tuple.\n",
    " We are allowed to add tuples to tuples, so if we want to add one item, (or many),\n",
    "  create a new tuple with the item(s), and add it to the existing tuple:\n",
    "\n",
    "Example: Create a new tuple with the value \"Bangalore\", and add that tuple\n",
    "\n",
    "NOTE: When creating a tuple with only one item, remember to include a comma after the item,\n",
    " otherwise it will not be identified as a tuple.\n",
    "\n",
    "Example : Create a new tuplr with the value \"Bangalore\", and add this tuple"
   ]
  },
  {
   "cell_type": "code",
   "execution_count": 41,
   "metadata": {},
   "outputs": [
    {
     "name": "stdout",
     "output_type": "stream",
     "text": [
      "('Apple', 'Banana', 'America', 'India', 'Mango', 'America', 'Simplified Learner', 'Bangalore')\n"
     ]
    }
   ],
   "source": [
    "x = (\"Apple\",\"Banana\",\"America\",\"India\",\"Mango\",\"America\",\"Simplified Learner\")\n",
    "# y = (\"Bangalore\") # if not added comma it will not be a tuple\n",
    "y = (\"Bangalore\",) #create a new tuple \n",
    "#print(type(y))\n",
    "x += y \n",
    "print(x)"
   ]
  },
  {
   "cell_type": "markdown",
   "metadata": {},
   "source": [
    "2.9 ► Remove Items\n",
    "Note: We cannot remove items in a tuple.\n",
    "Tuples are unchangeable, so we cannot remove items from it, but we do so using our same alternative\n",
    "\n",
    "Example →\n",
    "Convert the tuple into a list, remove \"Mango\", and convert it back into a tuple:"
   ]
  },
  {
   "cell_type": "code",
   "execution_count": 44,
   "metadata": {},
   "outputs": [
    {
     "name": "stdout",
     "output_type": "stream",
     "text": [
      "('Apple', 'Banana', 'America', 'India', 'America', 'Simplified Learner')\n"
     ]
    }
   ],
   "source": [
    "x = (\"Apple\",\"Banana\",\"America\",\"India\",\"Mango\",\"America\",\"Simplified Learner\")\n",
    "y = list(x)\n",
    "y.remove(\"Mango\")\n",
    "#print(y)\n",
    "x = tuple(y)\n",
    "print(x)"
   ]
  },
  {
   "cell_type": "markdown",
   "metadata": {},
   "source": [
    "► We can delete the tuple completely:"
   ]
  },
  {
   "cell_type": "code",
   "execution_count": 45,
   "metadata": {},
   "outputs": [
    {
     "ename": "NameError",
     "evalue": "name 'my_tuple' is not defined",
     "output_type": "error",
     "traceback": [
      "\u001b[1;31m---------------------------------------------------------------------------\u001b[0m",
      "\u001b[1;31mNameError\u001b[0m                                 Traceback (most recent call last)",
      "\u001b[1;32md:\\VS Practice Python\\Python_Tuple.ipynb Cell 35'\u001b[0m in \u001b[0;36m<module>\u001b[1;34m\u001b[0m\n\u001b[0;32m      <a href='vscode-notebook-cell:/d%3A/VS%20Practice%20Python/Python_Tuple.ipynb#ch0000036?line=0'>1</a>\u001b[0m my_tuple \u001b[39m=\u001b[39m (\u001b[39m\"\u001b[39m\u001b[39mApple\u001b[39m\u001b[39m\"\u001b[39m,\u001b[39m\"\u001b[39m\u001b[39mBanana\u001b[39m\u001b[39m\"\u001b[39m,\u001b[39m\"\u001b[39m\u001b[39mAmerica\u001b[39m\u001b[39m\"\u001b[39m,\u001b[39m\"\u001b[39m\u001b[39mIndia\u001b[39m\u001b[39m\"\u001b[39m,\u001b[39m\"\u001b[39m\u001b[39mMango\u001b[39m\u001b[39m\"\u001b[39m,\u001b[39m\"\u001b[39m\u001b[39mAmerica\u001b[39m\u001b[39m\"\u001b[39m,\u001b[39m\"\u001b[39m\u001b[39mSimplified Learner\u001b[39m\u001b[39m\"\u001b[39m)\n\u001b[0;32m      <a href='vscode-notebook-cell:/d%3A/VS%20Practice%20Python/Python_Tuple.ipynb#ch0000036?line=1'>2</a>\u001b[0m \u001b[39mdel\u001b[39;00m my_tuple\n\u001b[1;32m----> <a href='vscode-notebook-cell:/d%3A/VS%20Practice%20Python/Python_Tuple.ipynb#ch0000036?line=2'>3</a>\u001b[0m \u001b[39mprint\u001b[39m(my_tuple)\n",
      "\u001b[1;31mNameError\u001b[0m: name 'my_tuple' is not defined"
     ]
    }
   ],
   "source": [
    "my_tuple = (\"Apple\",\"Banana\",\"America\",\"India\",\"Mango\",\"America\",\"Simplified Learner\")\n",
    "del my_tuple\n",
    "print(my_tuple) # this will show error because the tuple is no longer exists"
   ]
  },
  {
   "cell_type": "markdown",
   "metadata": {},
   "source": [
    "2.10 ► Unpack Tuples\n",
    "→ Unpacking a Tuple\n",
    "When we create a tuple, we normally assign values to it. This is called \"packing\" a tuple\n",
    "\n",
    "Example : Packing a tuple:"
   ]
  },
  {
   "cell_type": "code",
   "execution_count": 46,
   "metadata": {},
   "outputs": [
    {
     "name": "stdout",
     "output_type": "stream",
     "text": [
      "('Apple', 'Banana', 'India', 'Mango', 'Simplified Learner')\n"
     ]
    }
   ],
   "source": [
    "my_tuple = (\"Apple\",\"Banana\",\"India\",\"Mango\",\"Simplified Learner\")\n",
    "print(my_tuple)"
   ]
  },
  {
   "cell_type": "markdown",
   "metadata": {},
   "source": [
    "→ But, in Python, we are also allowed to extract the values back into variables. This is called \"unpacking\"\n",
    "Example : Unpacking a tuple:"
   ]
  },
  {
   "cell_type": "code",
   "execution_count": 47,
   "metadata": {},
   "outputs": [
    {
     "name": "stdout",
     "output_type": "stream",
     "text": [
      "Apple\n",
      "Banana\n",
      "India\n",
      "Mango\n",
      "Simplified Learner\n"
     ]
    }
   ],
   "source": [
    "my_tuple = (\"Apple\",\"Banana\",\"India\",\"Mango\",\"Simplified Learner\")\n",
    "\n",
    "(red,yellow,tricolor,tasty,Awesome) = my_tuple\n",
    "\n",
    "print(red)\n",
    "print(yellow)\n",
    "print(tricolor)\n",
    "print(tasty)\n",
    "print(Awesome)\n"
   ]
  },
  {
   "cell_type": "markdown",
   "metadata": {},
   "source": [
    "NOTE : The number of variables must match the number of values in the tuple, if not, we must use an asterisk to collect the remaining values as a list."
   ]
  },
  {
   "cell_type": "markdown",
   "metadata": {},
   "source": [
    "→ Using Asterisk*\n",
    "If the number of variables is less than the number of values, we can add an * to the variable name and the values will be assigned to the variable as a list\n",
    "\n",
    "Example : Assign the rest of the values as a list called \"red\":"
   ]
  },
  {
   "cell_type": "code",
   "execution_count": 48,
   "metadata": {},
   "outputs": [
    {
     "name": "stdout",
     "output_type": "stream",
     "text": [
      "Apple\n",
      "Banana\n",
      "['India', 'Mango', 'Simplified Learner']\n"
     ]
    }
   ],
   "source": [
    "my_tuple = (\"Apple\",\"Banana\",\"India\",\"Mango\",\"Simplified Learner\")\n",
    "\n",
    "(red,yellow, *Awesome) = my_tuple\n",
    "\n",
    "print(red)\n",
    "print(yellow)\n",
    "print(Awesome)"
   ]
  },
  {
   "cell_type": "markdown",
   "metadata": {},
   "source": [
    "→ If the asterisk is added to another variable name than the last, Python will assign values to the variable until the number of values left matches the number of variables left.\n",
    "\n",
    "Example : Add a list of values the \"tropic\" variable:"
   ]
  },
  {
   "cell_type": "code",
   "execution_count": 49,
   "metadata": {},
   "outputs": [
    {
     "name": "stdout",
     "output_type": "stream",
     "text": [
      "Apple\n",
      "['Banana', 'India', 'Mango']\n",
      "Simplified Learner\n"
     ]
    }
   ],
   "source": [
    "my_tuple = (\"Apple\",\"Banana\",\"India\",\"Mango\",\"Simplified Learner\")\n",
    "\n",
    "(red, *yellow, Awesome) = my_tuple\n",
    "\n",
    "print(red)\n",
    "print(yellow)\n",
    "print(Awesome)"
   ]
  },
  {
   "cell_type": "markdown",
   "metadata": {},
   "source": [
    "2.11 → Loop Through a Tuple\n",
    "We can loop through the tuple items by using a for loop."
   ]
  },
  {
   "cell_type": "code",
   "execution_count": 50,
   "metadata": {},
   "outputs": [
    {
     "name": "stdout",
     "output_type": "stream",
     "text": [
      "Apple\n",
      "Banana\n",
      "India\n",
      "Mango\n",
      "Simplified Learner\n"
     ]
    }
   ],
   "source": [
    "my_tuple = (\"Apple\",\"Banana\",\"India\",\"Mango\",\"Simplified Learner\")\n",
    "for x in my_tuple:\n",
    "    print(x)"
   ]
  },
  {
   "cell_type": "markdown",
   "metadata": {},
   "source": [
    "► Loop Through the Index Numbers\n",
    "We can also loop through the tuple items by referring to their index number.\n",
    "Use the range() and len() functions to create a suitable iterable."
   ]
  },
  {
   "cell_type": "code",
   "execution_count": 51,
   "metadata": {},
   "outputs": [
    {
     "name": "stdout",
     "output_type": "stream",
     "text": [
      "Apple\n",
      "Banana\n",
      "India\n",
      "Mango\n",
      "Simplified Learner\n"
     ]
    }
   ],
   "source": [
    "my_tuple = (\"Apple\",\"Banana\",\"India\",\"Mango\",\"Simplified Learner\")\n",
    "for i in range(len(my_tuple)):\n",
    "    print(my_tuple[i])"
   ]
  },
  {
   "cell_type": "markdown",
   "metadata": {},
   "source": [
    "► Using a While Loop\n",
    "We can loop through the list items by using a while loop.\n",
    "\n",
    "Use the len() function to determine the length of the tuple, then start at 0 and loop your way through the tuple items by refering to their indexes.\n",
    "\n",
    "Remember to increase the index by 1 after each iteration"
   ]
  },
  {
   "cell_type": "code",
   "execution_count": 52,
   "metadata": {},
   "outputs": [
    {
     "name": "stdout",
     "output_type": "stream",
     "text": [
      "Apple\n",
      "Banana\n",
      "India\n",
      "Mango\n",
      "Simplified Learner\n"
     ]
    }
   ],
   "source": [
    "my_tuple = (\"Apple\",\"Banana\",\"India\",\"Mango\",\"Simplified Learner\")\n",
    "i = 0 \n",
    "while i < len(my_tuple):\n",
    "    print(my_tuple[i])\n",
    "    i = i + 1"
   ]
  },
  {
   "cell_type": "markdown",
   "metadata": {},
   "source": [
    "2.12 ► Join Tuples\n",
    "\n",
    "→Join Two Tuples\n",
    "To join two or more tuples you can use the + operator:"
   ]
  },
  {
   "cell_type": "code",
   "execution_count": 54,
   "metadata": {},
   "outputs": [
    {
     "name": "stdout",
     "output_type": "stream",
     "text": [
      "('Apple', 'Banana', 'India', 'Mango', 'Simplified Learner', 1, 2, 5)\n"
     ]
    }
   ],
   "source": [
    "my_tuple1 = (\"Apple\",\"Banana\",\"India\",\"Mango\",\"Simplified Learner\")\n",
    "my_tuple2 = (1,2,5)\n",
    "\n",
    "tuple3 = my_tuple1 + my_tuple2\n",
    " \n",
    "print(tuple3)"
   ]
  },
  {
   "cell_type": "markdown",
   "metadata": {},
   "source": [
    "► Multiply Tuples\n",
    "If we want to multiply the content of a tuple a given number of times, we can use the * operator:\n",
    "Example : Multiply the fruits tuple by 2:"
   ]
  },
  {
   "cell_type": "code",
   "execution_count": 60,
   "metadata": {},
   "outputs": [
    {
     "name": "stdout",
     "output_type": "stream",
     "text": [
      "('Apple', 'Banana', 'India', 'Mango', 'Simplified Learner', 'Apple', 'Banana', 'India', 'Mango', 'Simplified Learner')\n"
     ]
    }
   ],
   "source": [
    "my_tuple = (\"Apple\",\"Banana\",\"India\",\"Mango\",\"Simplified Learner\")\n",
    "my_tuple4 = my_tuple * 2\n",
    "print(my_tuple4) "
   ]
  },
  {
   "cell_type": "markdown",
   "metadata": {},
   "source": [
    "2.13 ► Tuple count() Method\n",
    "Example : Return the number of times the value 5 appears in the tuple:"
   ]
  },
  {
   "cell_type": "code",
   "execution_count": 2,
   "metadata": {},
   "outputs": [
    {
     "name": "stdout",
     "output_type": "stream",
     "text": [
      "7\n"
     ]
    }
   ],
   "source": [
    "my_tuple = (1,5,6,8,-9,5,7,6,33,5,5,1,5,5,54,5)\n",
    "x = my_tuple.count(5)\n",
    "print(x)"
   ]
  },
  {
   "cell_type": "markdown",
   "metadata": {},
   "source": [
    "► Tuple index() Method \n",
    "Example : Search for the first occurence of value 6, and return postion"
   ]
  },
  {
   "cell_type": "code",
   "execution_count": 1,
   "metadata": {},
   "outputs": [
    {
     "name": "stdout",
     "output_type": "stream",
     "text": [
      "3\n"
     ]
    }
   ],
   "source": [
    "my_tuple = (1,5,-8,6,8,-9,6,5,7,6,33,5,5,14,5)\n",
    "\n",
    "x = my_tuple.index(6)\n",
    "print(x)"
   ]
  }
 ],
 "metadata": {
  "interpreter": {
   "hash": "c569cd2e17f62341e0f08a54f9a867c3c0d3a6f67454072d7de41a8b5dff8343"
  },
  "kernelspec": {
   "display_name": "Python 3.9.6 64-bit",
   "language": "python",
   "name": "python3"
  },
  "language_info": {
   "codemirror_mode": {
    "name": "ipython",
    "version": 3
   },
   "file_extension": ".py",
   "mimetype": "text/x-python",
   "name": "python",
   "nbconvert_exporter": "python",
   "pygments_lexer": "ipython3",
   "version": "3.9.6"
  },
  "orig_nbformat": 4
 },
 "nbformat": 4,
 "nbformat_minor": 2
}
