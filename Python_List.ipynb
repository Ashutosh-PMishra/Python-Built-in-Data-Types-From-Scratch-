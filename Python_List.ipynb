{
 "cells": [
  {
   "cell_type": "markdown",
   "metadata": {},
   "source": [
    "Hello Learners 🙂 \n",
    "Python Collections (Arrays)\n",
    "There are four collection data types in Python Programming Language :\n",
    "1. List\n",
    "2. Tuple\n",
    "3. Set\n",
    "4. Dictionary"
   ]
  },
  {
   "cell_type": "markdown",
   "metadata": {},
   "source": [
    "1. LIST \n",
    "Definition : A List is a collection which is ordered and changeable. In Python Lists are written with Square Brackets.[]\n",
    "Example : "
   ]
  },
  {
   "cell_type": "code",
   "execution_count": 3,
   "metadata": {},
   "outputs": [
    {
     "name": "stdout",
     "output_type": "stream",
     "text": [
      "['Apple', 'Banana', 'Ashutosh Mishra', 'Simplified_Learner']\n"
     ]
    }
   ],
   "source": [
    "My_list = [\"Apple\",\"Banana\",\"Ashutosh Mishra\",\"Simplified_Learner\"]\n",
    "print(My_list)"
   ]
  },
  {
   "cell_type": "markdown",
   "metadata": {},
   "source": [
    "1.1 - Access Items in list : \n",
    "We can access the list items by referring to the index number.\n",
    "Example :"
   ]
  },
  {
   "cell_type": "code",
   "execution_count": 8,
   "metadata": {},
   "outputs": [
    {
     "name": "stdout",
     "output_type": "stream",
     "text": [
      "BMW\n"
     ]
    }
   ],
   "source": [
    "My_list = [\"Apple\",\"Banana\",\"BMW\",\"Simplified_Learner\"]\n",
    "print(My_list[2])"
   ]
  },
  {
   "cell_type": "markdown",
   "metadata": {},
   "source": [
    "1.2 - Negative Indexing :\n",
    "means beginning from end , -1 refers to last item, -2 refers the 2nd last item and so on....\n",
    "Example : Print the last item of list."
   ]
  },
  {
   "cell_type": "code",
   "execution_count": 15,
   "metadata": {},
   "outputs": [
    {
     "name": "stdout",
     "output_type": "stream",
     "text": [
      "Simplified_Learner\n"
     ]
    }
   ],
   "source": [
    "My_list = [\"Apple\",\"Banana\",\"BMW\",\"Simplified_Learner\"]\n",
    "print(My_list[-1])"
   ]
  },
  {
   "cell_type": "markdown",
   "metadata": {},
   "source": [
    "So, we saw that that List are used to store multiple items in a single variable, and it is one of the 4 built-in data types\n",
    "in Python used to store collection of data. \n",
    "NOTE :→ List allow duplicate values(Since lists are indexed)"
   ]
  },
  {
   "cell_type": "code",
   "execution_count": 1,
   "metadata": {},
   "outputs": [
    {
     "name": "stdout",
     "output_type": "stream",
     "text": [
      "['Apple', 'Banana', 'BMW', 'Simplified_Learner', 'Apple']\n"
     ]
    }
   ],
   "source": [
    "My_list = [\"Apple\",\"Banana\",\"BMW\",\"Simplified_Learner\",\"Apple\"]\n",
    "print(My_list)"
   ]
  },
  {
   "cell_type": "markdown",
   "metadata": {},
   "source": [
    "1.3 :→ List Length\n",
    "To determine how many items a list has, we use the len() functions."
   ]
  },
  {
   "cell_type": "code",
   "execution_count": 3,
   "metadata": {},
   "outputs": [
    {
     "name": "stdout",
     "output_type": "stream",
     "text": [
      "6\n"
     ]
    }
   ],
   "source": [
    "My_list = [\"Apple\",\"Banana\",\"BMW\",\"Simplified_Learner\",\"Cheery\",\"PineApple\"]\n",
    "print(len(My_list))"
   ]
  },
  {
   "cell_type": "markdown",
   "metadata": {},
   "source": [
    "1.4 :→ We can find the type of our variable using type() function\n",
    "From Python's perspective , list are defined as objects with data type \"list\""
   ]
  },
  {
   "cell_type": "code",
   "execution_count": 4,
   "metadata": {},
   "outputs": [
    {
     "name": "stdout",
     "output_type": "stream",
     "text": [
      "<class 'list'>\n"
     ]
    }
   ],
   "source": [
    "My_list = [\"Apple\",\"Banana\",\"BMW\",\"Simplified_Learner\"]\n",
    "print(type(My_list))"
   ]
  },
  {
   "cell_type": "markdown",
   "metadata": {},
   "source": [
    "1.5 :→ List items - Data Types \n",
    "List items can be of any data types and can contain different data types.\n",
    "Example :→ "
   ]
  },
  {
   "cell_type": "code",
   "execution_count": 5,
   "metadata": {},
   "outputs": [
    {
     "name": "stdout",
     "output_type": "stream",
     "text": [
      "['Apple', 'Banana', 'BMW', 'Simplified_Learner']\n",
      "[1, 5, 6, 8, 99, 0, 45, 7895]\n",
      "[True, False, False, True]\n"
     ]
    }
   ],
   "source": [
    "My_list1 = [\"Apple\",\"Banana\",\"BMW\",\"Simplified_Learner\"]\n",
    "My_list2 = [1,5,6,8,99,0,45,7895]\n",
    "My_list3 = [True,False,False,True]\n",
    "\n",
    "print(My_list1)\n",
    "print(My_list2)\n",
    "print(My_list3)"
   ]
  },
  {
   "cell_type": "code",
   "execution_count": 7,
   "metadata": {},
   "outputs": [
    {
     "name": "stdout",
     "output_type": "stream",
     "text": [
      "['Apple', 'Banana', 5, True, 'Simplified_Learner', 56, False, 'Apple']\n"
     ]
    }
   ],
   "source": [
    "My_list = [\"Apple\",\"Banana\",5,True,\"Simplified_Learner\",56,False,\"Apple\"]\n",
    "print(My_list)"
   ]
  },
  {
   "cell_type": "markdown",
   "metadata": {},
   "source": [
    "1.6 :→ Range of Indexes : \n",
    "We can specify a range if indexes by specifying where to start and where to end the range.\n",
    "Example :→ Return 3rd , 4th & 5th item from List. "
   ]
  },
  {
   "cell_type": "code",
   "execution_count": 10,
   "metadata": {},
   "outputs": [
    {
     "name": "stdout",
     "output_type": "stream",
     "text": [
      "[5, True, 'Simplified_Learner']\n"
     ]
    }
   ],
   "source": [
    "My_list = [\"Apple\",\"Banana\",5,True,\"Simplified_Learner\",56,False,\"Apple\"]\n",
    "print(My_list[2:5])  #here search will start at index 2 and end at index 5(not included )"
   ]
  },
  {
   "cell_type": "code",
   "execution_count": 12,
   "metadata": {},
   "outputs": [
    {
     "name": "stdout",
     "output_type": "stream",
     "text": [
      "['Apple', 'Banana', 5, True, 'Simplified_Learner', 56]\n"
     ]
    }
   ],
   "source": [
    "# Example :→ Example to return items from the beginning to,  but not including False\n",
    "My_list = [\"Apple\",\"Banana\",5,True,\"Simplified_Learner\",56,False,\"Apple\"]\n",
    "print(My_list[:6])"
   ]
  },
  {
   "cell_type": "code",
   "execution_count": 16,
   "metadata": {},
   "outputs": [
    {
     "name": "stdout",
     "output_type": "stream",
     "text": [
      "['Banana', 5, True, 'Simplified_Learner', 56, False, 'Apple']\n"
     ]
    }
   ],
   "source": [
    "# Example :→ Return item from Banana to end\n",
    "My_list = [\"Apple\",\"Banana\",5,True,\"Simplified_Learner\",56,False,\"Apple\"]\n",
    "print(My_list[1:])"
   ]
  },
  {
   "cell_type": "markdown",
   "metadata": {},
   "source": [
    "1.6 :→ Range of Negative Indexes \n",
    "Specify negative indexes if you want to start the search from the end of the list.\n",
    "Example : This example will returns the item from \"True\"(-5) to, but NOT including \"Apple\"(-1)"
   ]
  },
  {
   "cell_type": "code",
   "execution_count": 17,
   "metadata": {},
   "outputs": [
    {
     "name": "stdout",
     "output_type": "stream",
     "text": [
      "[True, 'Simplified_Learner', 56, False]\n"
     ]
    }
   ],
   "source": [
    "My_list = [\"Apple\",\"Banana\",5,True,\"Simplified_Learner\",56,False,\"Apple\"]\n",
    "print(My_list[-5 : -1])"
   ]
  },
  {
   "cell_type": "markdown",
   "metadata": {},
   "source": [
    "1.7 :→ Check if item Exits\n",
    "To determine if a specified item is present in a list use the \"in\" keyword"
   ]
  },
  {
   "cell_type": "code",
   "execution_count": 21,
   "metadata": {},
   "outputs": [
    {
     "name": "stdout",
     "output_type": "stream",
     "text": [
      "Yes, 'Simplified_Learner' is in the list.\n"
     ]
    }
   ],
   "source": [
    "My_list = [\"Apple\",\"Banana\",5,True,\"Simplified_Learner\",56,False,\"Apple\"]\n",
    "if \"Simplified_Learner\" in My_list:\n",
    "    print(\"Yes, 'Simplified_Learner' is in the list.\" )\n"
   ]
  },
  {
   "cell_type": "markdown",
   "metadata": {},
   "source": [
    "1.8 :→ Change Item Value\n",
    "To change item value we refer to index number"
   ]
  },
  {
   "cell_type": "code",
   "execution_count": 24,
   "metadata": {},
   "outputs": [
    {
     "name": "stdout",
     "output_type": "stream",
     "text": [
      "['Apple', 'Banana', 5, True, 'Simplified_Learner', 56, False, 'subscribe Please !']\n"
     ]
    }
   ],
   "source": [
    "My_list = [\"Apple\",\"Banana\",5,True,\"Simplified_Learner\",56,False,\"Apple\"]\n",
    "My_list[-1] = \"subscribe Please !\"\n",
    "print(My_list)"
   ]
  },
  {
   "cell_type": "markdown",
   "metadata": {},
   "source": [
    "1.9 :→ Change a Range of items values\n",
    "Example : Change the values \"Banana\" and \"5\" with \"Orange\" and \"Lemon\""
   ]
  },
  {
   "cell_type": "code",
   "execution_count": 25,
   "metadata": {},
   "outputs": [
    {
     "name": "stdout",
     "output_type": "stream",
     "text": [
      "['Apple', 'Orange', 'Lemon', True, 'Simplified_Learner', 56, False, 'Apple']\n"
     ]
    }
   ],
   "source": [
    "My_list = [\"Apple\",\"Banana\",5,True,\"Simplified_Learner\",56,False,\"Apple\"]\n",
    "My_list[1 : 3] = [\"Orange\", \"Lemon\"]\n",
    "print(My_list)"
   ]
  },
  {
   "cell_type": "markdown",
   "metadata": {},
   "source": [
    "NOTE : If you insert more items than you replace, the new items will be inserted where you specified, and the remaining items will move accordingly:\n",
    "Example :→ Change the second value by replacing it with two new values:"
   ]
  },
  {
   "cell_type": "code",
   "execution_count": 27,
   "metadata": {},
   "outputs": [
    {
     "name": "stdout",
     "output_type": "stream",
     "text": [
      "['Apple', 'Orange', 'Lemon', 5, True, 'Simplified_Learner', 56, False, 'Apple']\n",
      "9\n"
     ]
    }
   ],
   "source": [
    "My_list = [\"Apple\",\"Banana\",5,True,\"Simplified_Learner\",56,False,\"Apple\"]\n",
    "My_list[1 : 2] =[\"Orange\",  \"Lemon\"]\n",
    "print(My_list)\n",
    "print(len(My_list))"
   ]
  },
  {
   "cell_type": "markdown",
   "metadata": {},
   "source": [
    "Note: The length of the list will change when the number of items inserted does not match the number of items replaced"
   ]
  },
  {
   "cell_type": "markdown",
   "metadata": {},
   "source": [
    "If you insert less items than you replace, the new items will be inserted where you specified, and the remaining items will move accordingly:\n",
    "\n",
    "Example : \n",
    "Change the second and third value by replacing it with one value:"
   ]
  },
  {
   "cell_type": "code",
   "execution_count": 29,
   "metadata": {},
   "outputs": [
    {
     "name": "stdout",
     "output_type": "stream",
     "text": [
      "['Apple', 'Lemon', True, 'Simplified_Learner', 56, False, 'Apple']\n",
      "7\n"
     ]
    }
   ],
   "source": [
    "My_list = [\"Apple\",\"Banana\",5,True,\"Simplified_Learner\",56,False,\"Apple\"]\n",
    "My_list[1 : 3] = [\"Lemon\"]\n",
    "print(My_list)\n",
    "print(len(My_list))"
   ]
  },
  {
   "cell_type": "markdown",
   "metadata": {},
   "source": [
    "1.10 :→ LOOP through a List\n",
    "Print all the items in list, one by ne :"
   ]
  },
  {
   "cell_type": "code",
   "execution_count": 30,
   "metadata": {},
   "outputs": [
    {
     "name": "stdout",
     "output_type": "stream",
     "text": [
      "Apple\n",
      "Banana\n",
      "5\n",
      "True\n",
      "Simplified_Learner\n",
      "56\n",
      "False\n",
      "Apple\n"
     ]
    }
   ],
   "source": [
    "My_list = [\"Apple\",\"Banana\",5,True,\"Simplified_Learner\",56,False,\"Apple\"]\n",
    "for x in My_list:\n",
    "    print(x)"
   ]
  },
  {
   "cell_type": "markdown",
   "metadata": {},
   "source": [
    "1.11 :→ Append Item \n",
    "To add an item to the end of the list, we use append() method."
   ]
  },
  {
   "cell_type": "code",
   "execution_count": 1,
   "metadata": {},
   "outputs": [
    {
     "name": "stdout",
     "output_type": "stream",
     "text": [
      "['Apple', 'Banana', 'BMW', 'Simplified_Learner', 'Orange']\n"
     ]
    }
   ],
   "source": [
    "My_list = [\"Apple\",\"Banana\",\"BMW\",\"Simplified_Learner\"]\n",
    "My_list.append(\"Orange\")\n",
    "print(My_list)"
   ]
  },
  {
   "cell_type": "markdown",
   "metadata": {},
   "source": [
    "1.12 :→ Insert Items\n",
    "To insert a new list item, without replacing any of the existing values, we can use the insert() method.\n",
    "\n",
    "The insert() method inserts an item at the specified index:\n",
    "\n",
    "Example:→\n",
    "Insert \"watermelon\" as the third item: "
   ]
  },
  {
   "cell_type": "code",
   "execution_count": 5,
   "metadata": {},
   "outputs": [
    {
     "name": "stdout",
     "output_type": "stream",
     "text": [
      "[' Orange', 'Apple', 'Banana', 'BMW', 'Simplified_Learner']\n"
     ]
    }
   ],
   "source": [
    "My_list = [\"Apple\",\"Banana\",\"BMW\",\"Simplified_Learner\"]\n",
    "My_list.insert(0, \" Orange\")\n",
    "print(My_list)"
   ]
  },
  {
   "cell_type": "markdown",
   "metadata": {},
   "source": [
    "1.13 :→ Extend List\n",
    "To append elements from another list to the current list, use the extend() method.\n",
    "The element will be added to the end of the list."
   ]
  },
  {
   "cell_type": "code",
   "execution_count": 6,
   "metadata": {},
   "outputs": [
    {
     "name": "stdout",
     "output_type": "stream",
     "text": [
      "['Apple', 'Banana', 'BMW', 'Simplified_Learner', 'orange', 'Cat', 'Dog']\n"
     ]
    }
   ],
   "source": [
    "My_list11 = [\"Apple\",\"Banana\",\"BMW\",\"Simplified_Learner\"]\n",
    "My_list12 = [\"orange\",\"Cat\",\"Dog\"]\n",
    "My_list11.extend(My_list12)\n",
    "print(My_list11)"
   ]
  },
  {
   "cell_type": "markdown",
   "metadata": {},
   "source": [
    "1.14 :→ Remove List Items \n",
    "► The remove() method removes the specified item.\n",
    "Example : Remove \"Banana\""
   ]
  },
  {
   "cell_type": "code",
   "execution_count": 7,
   "metadata": {},
   "outputs": [
    {
     "name": "stdout",
     "output_type": "stream",
     "text": [
      "['Apple', 'BMW', 'Simplified_Learner']\n"
     ]
    }
   ],
   "source": [
    "My_list = [\"Apple\",\"Banana\",\"BMW\",\"Simplified_Learner\"]\n",
    "My_list.remove(\"Banana\")\n",
    "print(My_list)"
   ]
  },
  {
   "cell_type": "markdown",
   "metadata": {},
   "source": [
    "► Remove Specified Index\n",
    "The pop() method removes the specified index\n",
    "Example : Remove the second item from list"
   ]
  },
  {
   "cell_type": "code",
   "execution_count": 8,
   "metadata": {},
   "outputs": [
    {
     "name": "stdout",
     "output_type": "stream",
     "text": [
      "['Apple', 'BMW', 'Simplified_Learner']\n"
     ]
    }
   ],
   "source": [
    "My_list = [\"Apple\",\"Banana\",\"BMW\",\"Simplified_Learner\"]\n",
    "My_list.pop(1)\n",
    "print(My_list)"
   ]
  },
  {
   "cell_type": "markdown",
   "metadata": {},
   "source": [
    "NOTE : IF YOU DON NOT SPECIFY THE INDEX , THE pop() METHOD REMOVES THE LAST ITEM"
   ]
  },
  {
   "cell_type": "code",
   "execution_count": 9,
   "metadata": {},
   "outputs": [
    {
     "name": "stdout",
     "output_type": "stream",
     "text": [
      "['Apple', 'Banana', 'BMW']\n"
     ]
    }
   ],
   "source": [
    "My_list = [\"Apple\",\"Banana\",\"BMW\",\"Simplified_Learner\"]\n",
    "My_list.pop()\n",
    "print(My_list)"
   ]
  },
  {
   "cell_type": "markdown",
   "metadata": {},
   "source": [
    "► The del keyword also removes specifeid index"
   ]
  },
  {
   "cell_type": "code",
   "execution_count": 11,
   "metadata": {},
   "outputs": [
    {
     "name": "stdout",
     "output_type": "stream",
     "text": [
      "['Banana', 'BMW', 'Simplified_Learner']\n"
     ]
    }
   ],
   "source": [
    "My_list = [\"Apple\",\"Banana\",\"BMW\",\"Simplified_Learner\"]\n",
    "del My_list[0]\n",
    "print(My_list)"
   ]
  },
  {
   "cell_type": "markdown",
   "metadata": {},
   "source": [
    "► The del keyword can also delete the list completely"
   ]
  },
  {
   "cell_type": "code",
   "execution_count": 12,
   "metadata": {},
   "outputs": [
    {
     "ename": "NameError",
     "evalue": "name 'My_list' is not defined",
     "output_type": "error",
     "traceback": [
      "\u001b[1;31m---------------------------------------------------------------------------\u001b[0m",
      "\u001b[1;31mNameError\u001b[0m                                 Traceback (most recent call last)",
      "\u001b[1;32md:\\VS Practice Python\\Python_List.ipynb Cell 51'\u001b[0m in \u001b[0;36m<module>\u001b[1;34m\u001b[0m\n\u001b[0;32m      <a href='vscode-notebook-cell:/d%3A/VS%20Practice%20Python/Python_List.ipynb#ch0000050?line=0'>1</a>\u001b[0m My_list \u001b[39m=\u001b[39m [\u001b[39m\"\u001b[39m\u001b[39mApple\u001b[39m\u001b[39m\"\u001b[39m,\u001b[39m\"\u001b[39m\u001b[39mBanana\u001b[39m\u001b[39m\"\u001b[39m,\u001b[39m\"\u001b[39m\u001b[39mBMW\u001b[39m\u001b[39m\"\u001b[39m,\u001b[39m\"\u001b[39m\u001b[39mSimplified_Learner\u001b[39m\u001b[39m\"\u001b[39m]\n\u001b[0;32m      <a href='vscode-notebook-cell:/d%3A/VS%20Practice%20Python/Python_List.ipynb#ch0000050?line=1'>2</a>\u001b[0m \u001b[39mdel\u001b[39;00m My_list\n\u001b[1;32m----> <a href='vscode-notebook-cell:/d%3A/VS%20Practice%20Python/Python_List.ipynb#ch0000050?line=2'>3</a>\u001b[0m \u001b[39mprint\u001b[39m(My_list)\n",
      "\u001b[1;31mNameError\u001b[0m: name 'My_list' is not defined"
     ]
    }
   ],
   "source": [
    "My_list = [\"Apple\",\"Banana\",\"BMW\",\"Simplified_Learner\"]\n",
    "del My_list\n",
    "print(My_list) # this will cause an err because we have successsfully deleted \"My_list\""
   ]
  },
  {
   "cell_type": "markdown",
   "metadata": {},
   "source": [
    "► Clear the List \n",
    "The clear() methods empties the list\n",
    "The List still remains, bu it has no ccontent"
   ]
  },
  {
   "cell_type": "code",
   "execution_count": 13,
   "metadata": {},
   "outputs": [
    {
     "name": "stdout",
     "output_type": "stream",
     "text": [
      "[]\n"
     ]
    }
   ],
   "source": [
    "My_list = [\"Apple\",\"Banana\",\"BMW\",\"Simplified_Learner\"]\n",
    "My_list.clear()\n",
    "print(My_list)"
   ]
  },
  {
   "cell_type": "markdown",
   "metadata": {},
   "source": [
    "1.15 :→ Loop List \n",
    "► Loop through a List\n",
    "using for loop"
   ]
  },
  {
   "cell_type": "code",
   "execution_count": 1,
   "metadata": {},
   "outputs": [
    {
     "name": "stdout",
     "output_type": "stream",
     "text": [
      "Apple\n",
      "Banana\n",
      "5\n",
      "True\n",
      "Simplified_Learner\n",
      "56\n",
      "False\n",
      "Apple\n"
     ]
    }
   ],
   "source": [
    "My_list = [\"Apple\",\"Banana\",5,True,\"Simplified_Learner\",56,False,\"Apple\"]\n",
    "for x in My_list:\n",
    "    print(x)"
   ]
  },
  {
   "cell_type": "markdown",
   "metadata": {},
   "source": [
    "► Loop through the Index Numbers \n",
    "using range() & len()"
   ]
  },
  {
   "cell_type": "code",
   "execution_count": 2,
   "metadata": {},
   "outputs": [
    {
     "name": "stdout",
     "output_type": "stream",
     "text": [
      "Apple\n",
      "Banana\n",
      "5\n",
      "True\n",
      "Simplified_Learner\n",
      "56\n",
      "False\n",
      "Apple\n"
     ]
    }
   ],
   "source": [
    "My_list = [\"Apple\",\"Banana\",5,True,\"Simplified_Learner\",56,False,\"Apple\"]\n",
    "for i in range(len(My_list)):\n",
    "    print(My_list[i])"
   ]
  },
  {
   "cell_type": "markdown",
   "metadata": {},
   "source": [
    "► Using While Loop"
   ]
  },
  {
   "cell_type": "code",
   "execution_count": 3,
   "metadata": {},
   "outputs": [
    {
     "name": "stdout",
     "output_type": "stream",
     "text": [
      "Apple\n",
      "Banana\n",
      "5\n",
      "True\n",
      "Simplified_Learner\n",
      "56\n",
      "False\n",
      "Apple\n"
     ]
    }
   ],
   "source": [
    "My_list = [\"Apple\",\"Banana\",5,True,\"Simplified_Learner\",56,False,\"Apple\"]\n",
    "i = 0\n",
    "while i < len(My_list):\n",
    "    print(My_list[i])\n",
    "    i = i + 1"
   ]
  },
  {
   "cell_type": "markdown",
   "metadata": {},
   "source": [
    "► Looping Using List Comprehension\n",
    "List Comprehension offers the shortest syntax for looping through list."
   ]
  },
  {
   "cell_type": "code",
   "execution_count": 4,
   "metadata": {},
   "outputs": [
    {
     "name": "stdout",
     "output_type": "stream",
     "text": [
      "Apple\n",
      "Banana\n",
      "5\n",
      "True\n",
      "Simplified_Learner\n",
      "56\n",
      "False\n",
      "Apple\n"
     ]
    },
    {
     "data": {
      "text/plain": [
       "[None, None, None, None, None, None, None, None]"
      ]
     },
     "execution_count": 4,
     "metadata": {},
     "output_type": "execute_result"
    }
   ],
   "source": [
    "My_list = [\"Apple\",\"Banana\",5,True,\"Simplified_Learner\",56,False,\"Apple\"]\n",
    "[print(x) for x in My_list]"
   ]
  },
  {
   "cell_type": "markdown",
   "metadata": {},
   "source": [
    "1.16 :→ SORT LIST\n",
    "► Sort List Alphanumerically (ascending by default)"
   ]
  },
  {
   "cell_type": "code",
   "execution_count": 5,
   "metadata": {},
   "outputs": [
    {
     "name": "stdout",
     "output_type": "stream",
     "text": [
      "['Apple', 'Banana', 'Cherry', 'Kiwi', 'Orange', 'PineAppple', 'Watermelon']\n"
     ]
    }
   ],
   "source": [
    "My_list = [\"Apple\",\"Orange\",\"Banana\",\"Cherry\",\"PineAppple\",\"Watermelon\",\"Kiwi\"]\n",
    "My_list.sort()\n",
    "print(My_list)"
   ]
  },
  {
   "cell_type": "markdown",
   "metadata": {},
   "source": [
    "► Sort List Numerically"
   ]
  },
  {
   "cell_type": "code",
   "execution_count": 6,
   "metadata": {},
   "outputs": [
    {
     "name": "stdout",
     "output_type": "stream",
     "text": [
      "[0, 1, 2, 25, 52, 58, 98, 120]\n"
     ]
    }
   ],
   "source": [
    "My_num = [120,25,58,98,52,00,2,1]\n",
    "My_num.sort()\n",
    "print(My_num)"
   ]
  },
  {
   "cell_type": "markdown",
   "metadata": {},
   "source": [
    "► Sort Descending \n",
    "To descending, use the keyword argument reverse = True"
   ]
  },
  {
   "cell_type": "code",
   "execution_count": 7,
   "metadata": {},
   "outputs": [
    {
     "name": "stdout",
     "output_type": "stream",
     "text": [
      "['Watermelon', 'PineAppple', 'Orange', 'Kiwi', 'Cherry', 'Banana', 'Apple']\n"
     ]
    }
   ],
   "source": [
    "My_list = [\"Apple\",\"Orange\",\"Banana\",\"Cherry\",\"PineAppple\",\"Watermelon\",\"Kiwi\"]\n",
    "My_list.sort(reverse=True)\n",
    "print(My_list)\n"
   ]
  },
  {
   "cell_type": "code",
   "execution_count": 8,
   "metadata": {},
   "outputs": [
    {
     "name": "stdout",
     "output_type": "stream",
     "text": [
      "[120, 98, 58, 52, 25, 2, 1, 0, -1, -5]\n"
     ]
    }
   ],
   "source": [
    "My_num = [-1,-5,120,25,58,98,52,00,2,1]\n",
    "My_num.sort(reverse=True)\n",
    "print(My_num)"
   ]
  },
  {
   "cell_type": "markdown",
   "metadata": {},
   "source": [
    "► Customize Sort Function\n",
    "You can also customize your own function by using the keyword argument key = function.\n",
    "\n",
    "The function will return a number that will be used to sort the list (the lowest number first):\n",
    "\n",
    "Example\n",
    "Sort the list based on how close the number is to 20"
   ]
  },
  {
   "cell_type": "code",
   "execution_count": 10,
   "metadata": {},
   "outputs": [
    {
     "name": "stdout",
     "output_type": "stream",
     "text": [
      "[15, 25, 2, 1, -1, 52, 58, 60, 98, 120]\n"
     ]
    }
   ],
   "source": [
    "def myfunc(n):\n",
    "    return abs(n - 20)\n",
    "\n",
    "My_num = [-1,15,120,25,58,98,52,60,2,1]\n",
    "\n",
    "My_num.sort( key = myfunc)\n",
    "print(My_num)"
   ]
  },
  {
   "cell_type": "markdown",
   "metadata": {},
   "source": [
    "► Case Insensitive Sort\n",
    "By default the sort() method is case sensitive, resulting in all capital letter being sorted before lower case letter."
   ]
  },
  {
   "cell_type": "code",
   "execution_count": 11,
   "metadata": {},
   "outputs": [
    {
     "name": "stdout",
     "output_type": "stream",
     "text": [
      "['Apple', 'Cherry', 'Kiwi', 'Orange', 'banana', 'pineAppple', 'watermelon']\n"
     ]
    }
   ],
   "source": [
    "My_list = [\"Apple\",\"Orange\",\"banana\",\"Cherry\",\"pineAppple\",\"watermelon\",\"Kiwi\"]\n",
    "My_list.sort()\n",
    "print(My_list)"
   ]
  },
  {
   "cell_type": "markdown",
   "metadata": {},
   "source": [
    "Perform a case-insentive sort "
   ]
  },
  {
   "cell_type": "code",
   "execution_count": 14,
   "metadata": {},
   "outputs": [
    {
     "name": "stdout",
     "output_type": "stream",
     "text": [
      "['apple', 'banana', 'Cherry', 'Kiwi', 'Orange', 'pineappple', 'watermelon']\n"
     ]
    }
   ],
   "source": [
    "My_list = [\"apple\",\"Orange\",\"banana\",\"Cherry\",\"pineappple\",\"watermelon\",\"Kiwi\"]\n",
    "My_list.sort(key = str.lower)\n",
    "print(My_list)"
   ]
  },
  {
   "cell_type": "markdown",
   "metadata": {},
   "source": [
    "► Reverse Order "
   ]
  },
  {
   "cell_type": "code",
   "execution_count": 15,
   "metadata": {},
   "outputs": [
    {
     "name": "stdout",
     "output_type": "stream",
     "text": [
      "['Kiwi', 'Watermelon', 'PineAppple', 'Cherry', 'Banana', 'Orange', 'Apple']\n"
     ]
    }
   ],
   "source": [
    "My_list = [\"Apple\",\"Orange\",\"Banana\",\"Cherry\",\"PineAppple\",\"Watermelon\",\"Kiwi\"]\n",
    "My_list.reverse()\n",
    "print(My_list)"
   ]
  },
  {
   "cell_type": "markdown",
   "metadata": {},
   "source": [
    "1.17 ► COPY LIST\n",
    "you cannot copy a list simply by typing list2 = list1, because: list2 will only be a reference to list1, and changes made in list1 will automatically also be made in list2.\n",
    "\n",
    "There are ways to make a copy, one way is to use the built-in List method copy().\n",
    "\n",
    "Example : Make a copy of a list with the copy() method:"
   ]
  },
  {
   "cell_type": "code",
   "execution_count": 16,
   "metadata": {},
   "outputs": [
    {
     "name": "stdout",
     "output_type": "stream",
     "text": [
      "['Apple', 'Orange', 'Banana', 'Cherry', 'PineAppple', 'Watermelon', 'Kiwi']\n"
     ]
    }
   ],
   "source": [
    "My_list = [\"Apple\",\"Orange\",\"Banana\",\"Cherry\",\"PineAppple\",\"Watermelon\",\"Kiwi\"]\n",
    "New_list = My_list.copy()\n",
    "print(New_list)"
   ]
  },
  {
   "cell_type": "markdown",
   "metadata": {},
   "source": [
    "Another way to make a copy is to use the built-in method list().\n",
    "\n",
    "Example : Make a copy of a list with the list() method:"
   ]
  },
  {
   "cell_type": "code",
   "execution_count": 17,
   "metadata": {},
   "outputs": [
    {
     "name": "stdout",
     "output_type": "stream",
     "text": [
      "['Apple', 'Orange', 'Banana', 'Cherry', 'PineAppple', 'Watermelon', 'Kiwi']\n"
     ]
    }
   ],
   "source": [
    "My_list = [\"Apple\",\"Orange\",\"Banana\",\"Cherry\",\"PineAppple\",\"Watermelon\",\"Kiwi\"]\n",
    "New_list = list(My_list)\n",
    "print(New_list)"
   ]
  },
  {
   "cell_type": "markdown",
   "metadata": {},
   "source": [
    "1.18 JOIN TWO LIST\n",
    "► There are several ways to join, or concatenate, two or more lists in Python.\n",
    "\n",
    "One of the easiest ways are by using the + operator."
   ]
  },
  {
   "cell_type": "code",
   "execution_count": 18,
   "metadata": {},
   "outputs": [
    {
     "name": "stdout",
     "output_type": "stream",
     "text": [
      "['a', 'b', 'c', 1, 2, 3]\n"
     ]
    }
   ],
   "source": [
    "list1 = [\"a\",  \"b\", \"c\"]\n",
    "list2 = [1,2,3]\n",
    "list3 = list1 + list2\n",
    "print(list3)\n"
   ]
  },
  {
   "cell_type": "markdown",
   "metadata": {},
   "source": [
    "► Another way to join two lists is by appending all the items from list2 into list1, one by one"
   ]
  },
  {
   "cell_type": "code",
   "execution_count": 19,
   "metadata": {},
   "outputs": [
    {
     "name": "stdout",
     "output_type": "stream",
     "text": [
      "['a', 'b', 'c', 1, 2, 3]\n"
     ]
    }
   ],
   "source": [
    "list1 = [\"a\",  \"b\", \"c\"]\n",
    "list2 = [1,2,3]\n",
    "\n",
    "for x in list2:\n",
    "    list1.append(x)\n",
    "    \n",
    "print(list1)"
   ]
  },
  {
   "cell_type": "markdown",
   "metadata": {},
   "source": [
    "► Or you can use the extend() method, which purpose is to add elements from one list to another list:"
   ]
  },
  {
   "cell_type": "code",
   "execution_count": 20,
   "metadata": {},
   "outputs": [
    {
     "name": "stdout",
     "output_type": "stream",
     "text": [
      "['a', 'b', 'c', 1, 2, 3]\n"
     ]
    }
   ],
   "source": [
    "list1 = [\"a\",  \"b\", \"c\"]\n",
    "list2 = [1,2,3]\n",
    "\n",
    "list1.extend(list2)\n",
    "print(list1)"
   ]
  }
 ],
 "metadata": {
  "interpreter": {
   "hash": "c569cd2e17f62341e0f08a54f9a867c3c0d3a6f67454072d7de41a8b5dff8343"
  },
  "kernelspec": {
   "display_name": "Python 3.9.6 64-bit",
   "language": "python",
   "name": "python3"
  },
  "language_info": {
   "codemirror_mode": {
    "name": "ipython",
    "version": 3
   },
   "file_extension": ".py",
   "mimetype": "text/x-python",
   "name": "python",
   "nbconvert_exporter": "python",
   "pygments_lexer": "ipython3",
   "version": "3.9.6"
  },
  "orig_nbformat": 4
 },
 "nbformat": 4,
 "nbformat_minor": 2
}
