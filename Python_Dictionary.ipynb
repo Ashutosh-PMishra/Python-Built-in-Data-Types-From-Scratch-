{
 "cells": [
  {
   "cell_type": "markdown",
   "metadata": {},
   "source": [
    "Hello Learners 🙂 \n",
    "Python Collections(Arrays) Python Built-in Data Types : ►\n",
    "There are four collection data types in Python Programming Language :\n",
    "1. List\n",
    "2. Tuple\n",
    "3. Set \n",
    "4. Dictionary ►"
   ]
  },
  {
   "cell_type": "markdown",
   "metadata": {},
   "source": [
    "Definition →\n",
    "Dictionaries are used to store data values in key:value pairs.\n",
    "\n",
    "A dictionary is a collection which is ordered*, changeable and do not allow duplicates."
   ]
  },
  {
   "cell_type": "markdown",
   "metadata": {},
   "source": [
    "4.1 → Creating a dictionary and printing it."
   ]
  },
  {
   "cell_type": "code",
   "execution_count": 7,
   "metadata": {},
   "outputs": [
    {
     "name": "stdout",
     "output_type": "stream",
     "text": [
      "{'Ram': 'Boy', 'Radha': 'Girl', 'Brand': 'Ford', 'model': 'Mustang'}\n"
     ]
    }
   ],
   "source": [
    "#d1 = {\"Ram\": \"Boy\",\"Radha\":\"Girl\",\"Brand\":\"Ford\",\"model\":\"Mustang\",\"Radha\":\"Girl\"} no duplicates allowed\n",
    "d1 = {\"Ram\": \"Boy\",\"Radha\":\"Girl\",\"Brand\":\"Ford\",\"model\":\"Mustang\"}\n",
    "print(d1)\n"
   ]
  },
  {
   "cell_type": "markdown",
   "metadata": {},
   "source": [
    "NOTE : Dictionary items are presented in key:value pairs, and can be referred to by using the key name."
   ]
  },
  {
   "cell_type": "code",
   "execution_count": 6,
   "metadata": {},
   "outputs": [
    {
     "name": "stdout",
     "output_type": "stream",
     "text": [
      "Boy\n"
     ]
    }
   ],
   "source": [
    "#print the \"Ram\" value of the dictionary\n",
    "d1 = {\"Ram\": \"Boy\",\"Radha\":\"Girl\",\"Brand\":\"Ford\",\"model\":\"Mustang\"}\n",
    "print(d1[\"Ram\"])"
   ]
  },
  {
   "cell_type": "code",
   "execution_count": 8,
   "metadata": {},
   "outputs": [
    {
     "name": "stdout",
     "output_type": "stream",
     "text": [
      "{'Ram': 'Sweet', 'Radha': 'Girl', 'Brand': 'Ford', 'model': 'Mustang'}\n"
     ]
    }
   ],
   "source": [
    "d1 = {\"Ram\": \"Boy\",\"Radha\":\"Girl\",\"Brand\":\"Ford\",\"model\":\"Mustang\",\"Ram\": \"Strong\",\"Ram\": \"Sweet\"}\n",
    "#duplicate value will overwrite exiting values\n",
    "print(d1)"
   ]
  },
  {
   "cell_type": "markdown",
   "metadata": {},
   "source": [
    "4.2 → Dictionary Lenght\n",
    "lenght can be determine using len() function"
   ]
  },
  {
   "cell_type": "code",
   "execution_count": 9,
   "metadata": {},
   "outputs": [
    {
     "name": "stdout",
     "output_type": "stream",
     "text": [
      "4\n"
     ]
    }
   ],
   "source": [
    "d1 = {\"Ram\": \"Boy\",\"Radha\":\"Girl\",\"Brand\":\"Ford\",\"model\":\"Mustang\"}\n",
    "print(len(d1))"
   ]
  },
  {
   "cell_type": "markdown",
   "metadata": {},
   "source": [
    "4.3 → Dictionary Items - Data Types\n",
    "The values in dictionary can be of any data type\n",
    "String,int,boolean and list datatype"
   ]
  },
  {
   "cell_type": "code",
   "execution_count": 14,
   "metadata": {},
   "outputs": [
    {
     "name": "stdout",
     "output_type": "stream",
     "text": [
      "{'Ram': 'Good Boy', 'Brand': 'Tata', 'electric': False, 'Year': '2017', 'colors': ['red', 'blue', 'purple']}\n",
      "<class 'dict'>\n",
      "5\n",
      "['red', 'blue', 'purple']\n",
      "2017\n"
     ]
    }
   ],
   "source": [
    "d1 = {\"Ram\":\"Good Boy\",\"Brand\":\"Tata\",\"electric\":False,\"Year\":2017,\"colors\":[\"red\",\"blue\",\"purple\"]}\n",
    "print(d1)\n",
    "print(type(d1))\n",
    "print(len(d1))\n",
    "print(d1[\"colors\"])\n",
    "print(d1[\"Year\"])"
   ]
  },
  {
   "cell_type": "markdown",
   "metadata": {},
   "source": [
    "4.4 → Access Dictionary Items\n",
    "We can access the items of a dictionary by referring to its key name, inside square brackets"
   ]
  },
  {
   "cell_type": "code",
   "execution_count": 18,
   "metadata": {},
   "outputs": [
    {
     "name": "stdout",
     "output_type": "stream",
     "text": [
      "Tata\n",
      "Good Boy\n"
     ]
    }
   ],
   "source": [
    "d1 = {\"Ram\":\"Good Boy\",\"Brand\":\"Tata\",\"electric\":False,\"Year\":2017,\"colors\":[\"red\",\"blue\",\"purple\"]}\n",
    "#method1\n",
    "print(d1[\"Brand\"])\n",
    "\n",
    "#method2\n",
    "x = d1[\"Ram\"]\n",
    "print(x)"
   ]
  },
  {
   "cell_type": "code",
   "execution_count": 19,
   "metadata": {},
   "outputs": [
    {
     "name": "stdout",
     "output_type": "stream",
     "text": [
      "Tata\n"
     ]
    }
   ],
   "source": [
    "#► There is also a method called get()\n",
    "d1 = {\"Ram\":\"Good Boy\",\"Brand\":\"Tata\",\"electric\":False,\"Year\":2017,\"colors\":[\"red\",\"blue\",\"purple\"]}\n",
    "x = d1.get(\"Brand\")\n",
    "print(x)"
   ]
  },
  {
   "cell_type": "markdown",
   "metadata": {},
   "source": [
    "► The keys() method will return a list of all the keys in the dictionary\n",
    "► The values() method will return a list of all values in the dictionary"
   ]
  },
  {
   "cell_type": "code",
   "execution_count": 22,
   "metadata": {},
   "outputs": [
    {
     "name": "stdout",
     "output_type": "stream",
     "text": [
      "dict_keys(['Ram', 'Brand', 'electric', 'Year', 'colors'])\n",
      "5\n",
      "dict_values(['Good Boy', 'Tata', False, '2017', ['red', 'blue', 'purple']])\n"
     ]
    }
   ],
   "source": [
    "d1 = {\"Ram\":\"Good Boy\",\"Brand\":\"Tata\",\"electric\":False,\"Year\":2017,\"colors\":[\"red\",\"blue\",\"purple\"]}\n",
    "x = d1.keys()\n",
    "print(x) #returns list of keys\n",
    "print(len(x))\n",
    "\n",
    "print(d1.values()) #returns list of values"
   ]
  },
  {
   "cell_type": "markdown",
   "metadata": {},
   "source": [
    "► The list of the keys is a view of the dictionary, meaning that any changes done to the dictionary will be reflected in the keys list."
   ]
  },
  {
   "cell_type": "code",
   "execution_count": 25,
   "metadata": {},
   "outputs": [
    {
     "name": "stdout",
     "output_type": "stream",
     "text": [
      "dict_keys(['Ram', 'Brand', 'electric', 'Year'])\n",
      "dict_keys(['Ram', 'Brand', 'electric', 'Year', 'colors'])\n",
      "{'Ram': 'Good Boy', 'Brand': 'Tata', 'electric': False, 'Year': '2017', 'colors': ['red', 'blue', 'purple']}\n"
     ]
    }
   ],
   "source": [
    "d1 = {\"Ram\":\"Good Boy\",\n",
    "      \"Brand\":\"Tata\",\n",
    "      \"electric\":False,\n",
    "      \"Year\": 2017,\n",
    "      }\n",
    "x = d1.keys()\n",
    "print(x) #before any changes\n",
    "\n",
    "d1[\"colors\"] = [\"red\",\"blue\",\"purple\"]\n",
    "print(x) #after changes\n",
    "\n",
    "print(d1)"
   ]
  },
  {
   "cell_type": "markdown",
   "metadata": {},
   "source": [
    "► The list of the values is a view of the dictionary, meaning that any changes done to the dictionary will be reflected in the values list."
   ]
  },
  {
   "cell_type": "code",
   "execution_count": 29,
   "metadata": {},
   "outputs": [
    {
     "name": "stdout",
     "output_type": "stream",
     "text": [
      "dict_values(['Good Boy', 'Tata', False, '2017'])\n",
      "dict_values(['Good Boy', 'Tata', True, 2020])\n",
      "{'Ram': 'Good Boy', 'Brand': 'Tata', 'electric': True, 'Year': 2020}\n"
     ]
    }
   ],
   "source": [
    "d1 = {\"Ram\":\"Good Boy\",\n",
    "      \"Brand\":\"Tata\",\n",
    "      \"electric\":False,\n",
    "      \"Year\":2017,\n",
    "      }\n",
    "x = d1.values()\n",
    "print(x) #before any changes\n",
    "\n",
    "d1[\"electric\"] = True\n",
    "d1[\"Year\"] = 2020\n",
    "print(x) #after changes\n",
    "\n",
    "print(d1)\n",
    "\n"
   ]
  },
  {
   "cell_type": "markdown",
   "metadata": {},
   "source": [
    "► Adding new key and values items and print the result"
   ]
  },
  {
   "cell_type": "code",
   "execution_count": 33,
   "metadata": {},
   "outputs": [
    {
     "name": "stdout",
     "output_type": "stream",
     "text": [
      "dict_values(['Good Boy', 'Tata', False, '2017'])\n",
      "dict_values(['Good Boy', 'Tata', False, '2017', 'India'])\n",
      "dict_keys(['Ram', 'Brand', 'electric', 'Year', 'country'])\n",
      "{'Ram': 'Good Boy', 'Brand': 'Tata', 'electric': False, 'Year': '2017', 'country': 'India'}\n"
     ]
    }
   ],
   "source": [
    "d1 = {\"Ram\":\"Good Boy\",\n",
    "      \"Brand\":\"Tata\",\n",
    "      \"electric\":False,\n",
    "      \"Year\": 2017,\n",
    "      }\n",
    "x= d1.values()\n",
    "print(x) #before any changes\n",
    "\n",
    "d1[\"country\"] = \"India\"\n",
    "print(x) #after changes\n",
    "\n",
    "print(d1.keys())\n",
    "\n",
    "print(d1)"
   ]
  },
  {
   "cell_type": "markdown",
   "metadata": {},
   "source": [
    "► Get Items \n",
    "we use items() method to get item in a dictionary, as tuple in list."
   ]
  },
  {
   "cell_type": "code",
   "execution_count": 34,
   "metadata": {},
   "outputs": [
    {
     "name": "stdout",
     "output_type": "stream",
     "text": [
      "dict_items([('Ram', 'Good Boy'), ('Brand', 'Tata'), ('electric', False), ('Year', '2017')])\n"
     ]
    }
   ],
   "source": [
    "d1 = {\"Ram\":\"Good Boy\",\n",
    "      \"Brand\":\"Tata\",\n",
    "      \"electric\":False,\n",
    "      \"Year\":2017,\n",
    "      }\n",
    "x = d1.items()\n",
    "print(x)"
   ]
  },
  {
   "cell_type": "markdown",
   "metadata": {},
   "source": [
    "► Check if Key Exists\n",
    "To determine if a specified key is present 'in' a dictionary use the in keyword"
   ]
  },
  {
   "cell_type": "code",
   "execution_count": 4,
   "metadata": {},
   "outputs": [
    {
     "name": "stdout",
     "output_type": "stream",
     "text": [
      "Yes, the key is present in the dictionary!\n"
     ]
    }
   ],
   "source": [
    "d1 = {\"Ram\":\"Good Boy\",\n",
    "      \"Brand\":\"Tata\",\n",
    "      \"electric\":False,\n",
    "      \"Year\":2017,\n",
    "      }\n",
    "if \"Brand\" in d1:\n",
    "    print(\"Yes, the key is present in the dictionary!\")\n",
    "else:\n",
    "    print(\"No, the key is not present in dictionay!\")\n"
   ]
  },
  {
   "cell_type": "markdown",
   "metadata": {},
   "source": [
    "4.5 → Change Dictionary Items\n",
    "We can change the value of a specific item by referring to its key name:"
   ]
  },
  {
   "cell_type": "code",
   "execution_count": 8,
   "metadata": {},
   "outputs": [
    {
     "name": "stdout",
     "output_type": "stream",
     "text": [
      "{'Ram': 'Good Boy', 'Brand': 'Ford', 'electric': False, 'Year': 2017}\n",
      "dict_items([('Ram', 'Good Boy'), ('Brand', 'Ford'), ('electric', False), ('Year', 2017)])\n"
     ]
    }
   ],
   "source": [
    "d1 = {\"Ram\": \"Good Boy\",\n",
    "      \"Brand\": \"Tata\",\n",
    "      \"electric\": False,\n",
    "      \"Year\": 2017,\n",
    "      }\n",
    "d1[\"Brand\"] = \"Ford\"\n",
    "print(d1)\n",
    "\n",
    "x = d1.items()\n",
    "print(x)"
   ]
  },
  {
   "cell_type": "markdown",
   "metadata": {},
   "source": [
    "► Update Dictionary\n",
    "use update() method"
   ]
  },
  {
   "cell_type": "code",
   "execution_count": 9,
   "metadata": {},
   "outputs": [
    {
     "name": "stdout",
     "output_type": "stream",
     "text": [
      "{'Ram': 'Good Boy', 'Brand': 'Tata', 'electric': False, 'Year': 2022}\n"
     ]
    }
   ],
   "source": [
    "#update year \n",
    "d1 = {\"Ram\": \"Good Boy\",\n",
    "      \"Brand\": \"Tata\",\n",
    "      \"electric\": False,\n",
    "      \"Year\": 2017,\n",
    "      }\n",
    "\n",
    "d1.update({\"Year\": 2022})\n",
    "print(d1)"
   ]
  },
  {
   "cell_type": "markdown",
   "metadata": {},
   "source": [
    "4.6 → Add Dictionary Items\n",
    "2 methods → using index key and assigning a value to it\n",
    "          → using update() method"
   ]
  },
  {
   "cell_type": "code",
   "execution_count": 11,
   "metadata": {},
   "outputs": [
    {
     "name": "stdout",
     "output_type": "stream",
     "text": [
      "dict_items([('Ram', 'Good Boy'), ('Brand', 'Tata'), ('electric', False), ('Year', 2017), ('model', 'Tata Nano')])\n"
     ]
    }
   ],
   "source": [
    "d1 = {\"Ram\": \"Good Boy\",\n",
    "      \"Brand\": \"Tata\",\n",
    "      \"electric\": False,\n",
    "      \"Year\": 2017,\n",
    "      }\n",
    "\n",
    "d1[\"model\"] = \"Tata Nano\"\n",
    "print(d1.items())"
   ]
  },
  {
   "cell_type": "code",
   "execution_count": 12,
   "metadata": {},
   "outputs": [
    {
     "name": "stdout",
     "output_type": "stream",
     "text": [
      "{'Ram': 'Good Boy', 'Brand': 'Tata', 'electric': False, 'Year': 2017, 'model': 'Nano'}\n"
     ]
    }
   ],
   "source": [
    "d1 = {\"Ram\": \"Good Boy\",\n",
    "      \"Brand\": \"Tata\",\n",
    "      \"electric\": False,\n",
    "      \"Year\": 2017,\n",
    "      }\n",
    "\n",
    "d1.update({\"model\":\"Nano\"})\n",
    "print(d1)"
   ]
  },
  {
   "cell_type": "markdown",
   "metadata": {},
   "source": [
    "4.7 → Remove Dictionary Items\n",
    "There are several method to remove items from a dictionary "
   ]
  },
  {
   "cell_type": "markdown",
   "metadata": {},
   "source": [
    "► pop() method removes the items with the specified key name"
   ]
  },
  {
   "cell_type": "code",
   "execution_count": 13,
   "metadata": {},
   "outputs": [
    {
     "name": "stdout",
     "output_type": "stream",
     "text": [
      "{'Ram': 'Good Boy', 'Brand': 'Tata', 'Year': 2017}\n"
     ]
    }
   ],
   "source": [
    "d1 = {\"Ram\": \"Good Boy\",\n",
    "      \"Brand\": \"Tata\",\n",
    "      \"electric\": False,\n",
    "      \"Year\": 2017,\n",
    "      }\n",
    "\n",
    "d1.pop(\"electric\")\n",
    "print(d1)"
   ]
  },
  {
   "cell_type": "markdown",
   "metadata": {},
   "source": [
    "► popitem() methods removes the last inserted item"
   ]
  },
  {
   "cell_type": "code",
   "execution_count": 14,
   "metadata": {},
   "outputs": [
    {
     "name": "stdout",
     "output_type": "stream",
     "text": [
      "{'Ram': 'Good Boy', 'Brand': 'Tata', 'electric': False}\n"
     ]
    }
   ],
   "source": [
    "d1 = {\"Ram\": \"Good Boy\",\n",
    "      \"Brand\": \"Tata\",\n",
    "      \"electric\": False,\n",
    "      \"Year\": 2017,\n",
    "      }\n",
    "\n",
    "d1.popitem()\n",
    "print(d1)   "
   ]
  },
  {
   "cell_type": "markdown",
   "metadata": {},
   "source": [
    "► del() keyword removes the item with the specified key name"
   ]
  },
  {
   "cell_type": "code",
   "execution_count": 15,
   "metadata": {},
   "outputs": [
    {
     "name": "stdout",
     "output_type": "stream",
     "text": [
      "{'Ram': 'Good Boy', 'Brand': 'Tata', 'Year': 2017}\n"
     ]
    }
   ],
   "source": [
    "d1 = {\"Ram\": \"Good Boy\",\n",
    "      \"Brand\": \"Tata\",\n",
    "      \"electric\": False,\n",
    "      \"Year\": 2017,\n",
    "      }\n",
    "\n",
    "del d1[\"electric\"]\n",
    "print(d1)"
   ]
  },
  {
   "cell_type": "markdown",
   "metadata": {},
   "source": [
    "► the del keyword can also delete the dictionary completely"
   ]
  },
  {
   "cell_type": "code",
   "execution_count": 16,
   "metadata": {},
   "outputs": [
    {
     "ename": "NameError",
     "evalue": "name 'd1' is not defined",
     "output_type": "error",
     "traceback": [
      "\u001b[1;31m---------------------------------------------------------------------------\u001b[0m",
      "\u001b[1;31mNameError\u001b[0m                                 Traceback (most recent call last)",
      "\u001b[1;32md:\\VS Practice Python\\Python_Dictionary.ipynb Cell 42'\u001b[0m in \u001b[0;36m<module>\u001b[1;34m\u001b[0m\n\u001b[0;32m      <a href='vscode-notebook-cell:/d%3A/VS%20Practice%20Python/Python_Dictionary.ipynb#ch0000042?line=0'>1</a>\u001b[0m d1 \u001b[39m=\u001b[39m {\u001b[39m\"\u001b[39m\u001b[39mRam\u001b[39m\u001b[39m\"\u001b[39m: \u001b[39m\"\u001b[39m\u001b[39mGood Boy\u001b[39m\u001b[39m\"\u001b[39m,\n\u001b[0;32m      <a href='vscode-notebook-cell:/d%3A/VS%20Practice%20Python/Python_Dictionary.ipynb#ch0000042?line=1'>2</a>\u001b[0m       \u001b[39m\"\u001b[39m\u001b[39mBrand\u001b[39m\u001b[39m\"\u001b[39m: \u001b[39m\"\u001b[39m\u001b[39mTata\u001b[39m\u001b[39m\"\u001b[39m,\n\u001b[0;32m      <a href='vscode-notebook-cell:/d%3A/VS%20Practice%20Python/Python_Dictionary.ipynb#ch0000042?line=2'>3</a>\u001b[0m       \u001b[39m\"\u001b[39m\u001b[39melectric\u001b[39m\u001b[39m\"\u001b[39m: \u001b[39mFalse\u001b[39;00m,\n\u001b[0;32m      <a href='vscode-notebook-cell:/d%3A/VS%20Practice%20Python/Python_Dictionary.ipynb#ch0000042?line=3'>4</a>\u001b[0m       \u001b[39m\"\u001b[39m\u001b[39mYear\u001b[39m\u001b[39m\"\u001b[39m: \u001b[39m2017\u001b[39m,\n\u001b[0;32m      <a href='vscode-notebook-cell:/d%3A/VS%20Practice%20Python/Python_Dictionary.ipynb#ch0000042?line=4'>5</a>\u001b[0m       }\n\u001b[0;32m      <a href='vscode-notebook-cell:/d%3A/VS%20Practice%20Python/Python_Dictionary.ipynb#ch0000042?line=6'>7</a>\u001b[0m \u001b[39mdel\u001b[39;00m d1\n\u001b[1;32m----> <a href='vscode-notebook-cell:/d%3A/VS%20Practice%20Python/Python_Dictionary.ipynb#ch0000042?line=7'>8</a>\u001b[0m \u001b[39mprint\u001b[39m(d1)\n",
      "\u001b[1;31mNameError\u001b[0m: name 'd1' is not defined"
     ]
    }
   ],
   "source": [
    "d1 = {\"Ram\": \"Good Boy\",\n",
    "      \"Brand\": \"Tata\",\n",
    "      \"electric\": False,\n",
    "      \"Year\": 2017,\n",
    "      }\n",
    "\n",
    "del d1\n",
    "print(d1)"
   ]
  },
  {
   "cell_type": "markdown",
   "metadata": {},
   "source": [
    "► clear() method empties the dictionary"
   ]
  },
  {
   "cell_type": "code",
   "execution_count": 17,
   "metadata": {},
   "outputs": [
    {
     "name": "stdout",
     "output_type": "stream",
     "text": [
      "{}\n"
     ]
    }
   ],
   "source": [
    "d1 = {\"Ram\": \"Good Boy\",\n",
    "      \"Brand\": \"Tata\",\n",
    "      \"electric\": False,\n",
    "      \"Year\": 2017,\n",
    "      }\n",
    "\n",
    "d1.clear()\n",
    "print(d1)"
   ]
  },
  {
   "cell_type": "markdown",
   "metadata": {},
   "source": [
    "4.8 Loop Through a Dictionary\n",
    "We can loop through a dictionary by using a for loop.\n",
    "\n",
    "When looping through a dictionary, the return value are the keys of the dictionary, but there are methods to return the values as well."
   ]
  },
  {
   "cell_type": "code",
   "execution_count": 18,
   "metadata": {},
   "outputs": [
    {
     "name": "stdout",
     "output_type": "stream",
     "text": [
      "Ram\n",
      "Brand\n",
      "electric\n",
      "Year\n"
     ]
    }
   ],
   "source": [
    "d1 = {\"Ram\": \"Good Boy\",\n",
    "      \"Brand\": \"Tata\",\n",
    "      \"electric\": False,\n",
    "      \"Year\": 2017,\n",
    "      }\n",
    "for x in d1:\n",
    "    print(x)"
   ]
  },
  {
   "cell_type": "markdown",
   "metadata": {},
   "source": [
    "►to loop and print on;y the values in dictionary"
   ]
  },
  {
   "cell_type": "code",
   "execution_count": 19,
   "metadata": {},
   "outputs": [
    {
     "name": "stdout",
     "output_type": "stream",
     "text": [
      "Good Boy\n",
      "Tata\n",
      "False\n",
      "2017\n"
     ]
    }
   ],
   "source": [
    "d1 = {\"Ram\": \"Good Boy\",\n",
    "      \"Brand\": \"Tata\",\n",
    "      \"electric\": False,\n",
    "      \"Year\": 2017,\n",
    "      }\n",
    "for x in d1:\n",
    "    print(d1[x])"
   ]
  },
  {
   "cell_type": "code",
   "execution_count": 20,
   "metadata": {},
   "outputs": [
    {
     "name": "stdout",
     "output_type": "stream",
     "text": [
      "Good Boy\n",
      "Tata\n",
      "False\n",
      "2017\n"
     ]
    }
   ],
   "source": [
    "# print all the values using value() method\n",
    "d1 = {\"Ram\": \"Good Boy\",\n",
    "      \"Brand\": \"Tata\",\n",
    "      \"electric\": False,\n",
    "      \"Year\": 2017,\n",
    "      }\n",
    "for x in d1.values():\n",
    "      print(x)"
   ]
  },
  {
   "cell_type": "code",
   "execution_count": 21,
   "metadata": {},
   "outputs": [
    {
     "name": "stdout",
     "output_type": "stream",
     "text": [
      "Ram\n",
      "Brand\n",
      "electric\n",
      "Year\n"
     ]
    }
   ],
   "source": [
    "# print all the keys using, keys() method \n",
    "d1 = {\"Ram\": \"Good Boy\",\n",
    "      \"Brand\": \"Tata\",\n",
    "      \"electric\": False,\n",
    "      \"Year\": 2017,\n",
    "      }\n",
    "for x in d1.keys():\n",
    "    print(x)"
   ]
  },
  {
   "cell_type": "markdown",
   "metadata": {},
   "source": [
    "► Loop through both keys and values by using the items() method."
   ]
  },
  {
   "cell_type": "code",
   "execution_count": 22,
   "metadata": {},
   "outputs": [
    {
     "name": "stdout",
     "output_type": "stream",
     "text": [
      "Ram Good Boy\n",
      "Brand Tata\n",
      "electric False\n",
      "Year 2017\n"
     ]
    }
   ],
   "source": [
    "d1 = {\"Ram\": \"Good Boy\",\n",
    "      \"Brand\": \"Tata\",\n",
    "      \"electric\": False,\n",
    "      \"Year\": 2017,\n",
    "      }\n",
    "for x,y in d1.items():\n",
    "    print(x,y)"
   ]
  },
  {
   "cell_type": "markdown",
   "metadata": {},
   "source": [
    "► 4.9 Copy a Dictionary\n",
    "We cannot copy a dictionary simply by typing d2 = d1, because:→ d2 will only be a reference to d1, \n",
    "and changes made in d1 will automatically also be made in d2.\n",
    "\n",
    "There are ways to make a copy, one way is to use the built-in Dictionary method copy()."
   ]
  },
  {
   "cell_type": "code",
   "execution_count": 2,
   "metadata": {},
   "outputs": [
    {
     "name": "stdout",
     "output_type": "stream",
     "text": [
      "{'Ram': 'Good Boy', 'Brand': 'Tata', 'electric': False, 'Year': 2019}\n"
     ]
    }
   ],
   "source": [
    "d1 = {\"Ram\": \"Good Boy\",\n",
    "      \"Brand\": \"Tata\",\n",
    "      \"electric\": False,\n",
    "      \"Year\": 2019,\n",
    "      }\n",
    "\n",
    "d2 = d1.copy()\n",
    "print(d2)"
   ]
  },
  {
   "cell_type": "markdown",
   "metadata": {},
   "source": [
    "►Another method to copy is to use built-in function dict()"
   ]
  },
  {
   "cell_type": "code",
   "execution_count": 3,
   "metadata": {},
   "outputs": [
    {
     "name": "stdout",
     "output_type": "stream",
     "text": [
      "{'Ram': 'Good Boy', 'Brand': 'Tata', 'electric': False, 'Year': 2017}\n"
     ]
    }
   ],
   "source": [
    "d1 = {\"Ram\": \"Good Boy\",\n",
    "      \"Brand\": \"Tata\",\n",
    "      \"electric\": False,\n",
    "      \"Year\": 2017,\n",
    "      }\n",
    "\n",
    "d2 = dict(d1)\n",
    "print(d2)"
   ]
  },
  {
   "cell_type": "markdown",
   "metadata": {},
   "source": [
    "4.10  Nested Dictionaries\n",
    "A dictionary can contain dictionaries, this is called nested dictionaries.\n",
    "\n",
    "Example → \n",
    "Create a dictionary that contain three dictionaries."
   ]
  },
  {
   "cell_type": "code",
   "execution_count": 8,
   "metadata": {},
   "outputs": [
    {
     "name": "stdout",
     "output_type": "stream",
     "text": [
      "{'pet_animals': {'type': 'Dog', 'name': 'Tommy', 'year': 2020}, 'farm_animals': {'type': 'cow', 'name': 'Rani', 'year': 2018}, 'fav_animal': {'type': 'Horse', 'name': 'Chetak', 'year': 2015}}\n"
     ]
    }
   ],
   "source": [
    "my_animals = {\n",
    "    \"pet_animals\" : {\n",
    "        \"type\" : \"Dog\",\n",
    "        \"name\" : \"Tommy\",\n",
    "        \"year\" : 2020\n",
    "    },\n",
    "    \"farm_animals\" : {\n",
    "        \"type\" : \"cow\",\n",
    "        \"name\" : \"Rani\",\n",
    "        \"year\" : 2018\n",
    "    },\n",
    "    \"fav_animal\" :{\n",
    "        \"type\" : \"Horse\",\n",
    "        \"name\" : \"Chetak\",\n",
    "        \"year\" : 2015\n",
    "    }\n",
    "}\n",
    "print(my_animals)"
   ]
  },
  {
   "cell_type": "markdown",
   "metadata": {},
   "source": [
    "► Or, if we want to add three dictionaries into a new dictionary:\n",
    "\n",
    "Example →\n",
    "Create three dictionaries, then create one dictionary that will contain the other three dictionaries:"
   ]
  },
  {
   "cell_type": "code",
   "execution_count": 7,
   "metadata": {},
   "outputs": [
    {
     "name": "stdout",
     "output_type": "stream",
     "text": [
      "{'pet_animals': {'type': 'Dog', 'name': 'Tommy', 'year': 2020}, 'farm_animals': {'type': 'cow', 'name': 'Rani', 'year': 2018}, 'fav_animals': {'type': 'Horse', 'name': 'Chetak', 'year': 2015}}\n"
     ]
    }
   ],
   "source": [
    "pet_animals = {\n",
    "    \"type\" : \"Dog\",\n",
    "    \"name\" : \"Tommy\",\n",
    "    \"year\" : 2020\n",
    "    }\n",
    "farm_animals = {\n",
    "    \"type\" : \"cow\",\n",
    "    \"name\" : \"Rani\",\n",
    "    \"year\" : 2018\n",
    "    }\n",
    "fav_animal = {\n",
    "    \"type\" : \"Horse\",\n",
    "    \"name\" : \"Chetak\",\n",
    "    \"year\" : 2015\n",
    "    }\n",
    "\n",
    "my_animals ={\n",
    "    \"pet_animals\" : pet_animals,\n",
    "    \"farm_animals\" : farm_animals,\n",
    "    \"fav_animals\" : fav_animal\n",
    "}\n",
    "print(my_animals)"
   ]
  },
  {
   "cell_type": "markdown",
   "metadata": {},
   "source": [
    "THANKYOU ALL 😍 HAPPY LEARNING "
   ]
  }
 ],
 "metadata": {
  "interpreter": {
   "hash": "c569cd2e17f62341e0f08a54f9a867c3c0d3a6f67454072d7de41a8b5dff8343"
  },
  "kernelspec": {
   "display_name": "Python 3.9.6 64-bit",
   "language": "python",
   "name": "python3"
  },
  "language_info": {
   "codemirror_mode": {
    "name": "ipython",
    "version": 3
   },
   "file_extension": ".py",
   "mimetype": "text/x-python",
   "name": "python",
   "nbconvert_exporter": "python",
   "pygments_lexer": "ipython3",
   "version": "3.9.6"
  },
  "orig_nbformat": 4
 },
 "nbformat": 4,
 "nbformat_minor": 2
}
