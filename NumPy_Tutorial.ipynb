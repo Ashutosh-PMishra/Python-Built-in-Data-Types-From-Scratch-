{
  "cells": [
    {
      "cell_type": "markdown",
      "metadata": {
        "id": "6i-iZu8GLpjt"
      },
      "source": [
        "***Numpy Tutorial from Scratch :→ Basic to Advanced 😎💯***"
      ]
    },
    {
      "cell_type": "markdown",
      "metadata": {
        "id": "9-z18TQgL2m0"
      },
      "source": [
        "**So, we'll basically Start with a basic introduction and ends up with creating and plotting random data sets, and working with NumPy functions.** \n",
        "\n",
        "**We will learn :→**\n",
        "*   Numpy Basic\n",
        "*   NumPy Random\n",
        "*   NumPy ufunc (Universal Functions)"
      ]
    },
    {
      "cell_type": "markdown",
      "metadata": {
        "id": "F1HpOekDMjMF"
      },
      "source": [
        "***► What is NumPy❓***\n",
        "*  NumPy stands for \"Numerical Python\" and is core Python library for numeric and scientific computing.\n",
        "*  NumPy is a Python library used for working with arrays.\n",
        "*  It also has functions for working in domain of linear algebra, fourier transform, and matrices\n",
        "*  It consist of multi-dimensional array objects and collection of routines for processing these arrays."
      ]
    },
    {
      "cell_type": "markdown",
      "metadata": {
        "id": "rqBCLlg2NE4F"
      },
      "source": [
        "***► Why Use NumPy❓***\n",
        "*   In Python we have lists that serve the purpose of arrays, but they are slow to process.\n",
        "*   NumPy aims to provide an array object that is up to 50x faster than traditional Python lists.\n",
        "*   The array object in NumPy is called ndarray, it provides a lot of supporting functions that make working with ndarray very easy.\n",
        "*   Arrays are very frequently used in data science, where speed and resources are very important."
      ]
    },
    {
      "cell_type": "markdown",
      "metadata": {
        "id": "3dhq3cM0NWat"
      },
      "source": [
        "***► Why is NumPy Faster Than Lists ❓***\n",
        "*   NumPy arrays are stored at one continuous place in memory unlike lists, so processes can access and manipulate them very efficiently.\n",
        "*   This behavior is called locality of reference in computer science.\n",
        "*   This is the main reason why NumPy is faster than lists. Also it is optimized to work with latest CPU architectures."
      ]
    },
    {
      "cell_type": "markdown",
      "metadata": {
        "id": "APZyA0feNj3E"
      },
      "source": [
        "***► NumPy – A Replacement for MatLab***\n",
        "*   NumPy is often used along with packages like SciPy (Scientific Python) and Mat−plotlib (plotting library).\n",
        "*   This combination is widely used as a replacement for MatLab, a popular platform for technical computing.\n"
      ]
    },
    {
      "cell_type": "code",
      "execution_count": null,
      "metadata": {
        "colab": {
          "base_uri": "https://localhost:8080/"
        },
        "id": "ZxXEs7V02P6w",
        "outputId": "9b30e332-1648-4176-9ab4-c3d401621221"
      },
      "outputs": [
        {
          "name": "stdout",
          "output_type": "stream",
          "text": [
            "[ 5 10 15 20 25]\n"
          ]
        }
      ],
      "source": [
        "#import NumPy Library\n",
        "import numpy\n",
        "arr = numpy.array([5,10,15,20,25])\n",
        "print(arr)"
      ]
    },
    {
      "cell_type": "code",
      "execution_count": null,
      "metadata": {
        "colab": {
          "base_uri": "https://localhost:8080/"
        },
        "id": "968nZ2x32rMv",
        "outputId": "ca2bc6d6-9207-47f9-fc8e-2f68a9ffb276"
      },
      "outputs": [
        {
          "name": "stdout",
          "output_type": "stream",
          "text": [
            "[ 5 10 15 20 25]\n"
          ]
        }
      ],
      "source": [
        "import numpy as np\n",
        "arr = np.array([5,10,15,20,25])\n",
        "print(arr)"
      ]
    },
    {
      "cell_type": "code",
      "execution_count": null,
      "metadata": {
        "colab": {
          "base_uri": "https://localhost:8080/"
        },
        "id": "4jXUvCmE20-A",
        "outputId": "17ab8661-05e7-45e3-b7e2-903a622b9af7"
      },
      "outputs": [
        {
          "name": "stdout",
          "output_type": "stream",
          "text": [
            "1.21.6\n"
          ]
        }
      ],
      "source": [
        "#checking version of numpy\n",
        "print(np.__version__)"
      ]
    },
    {
      "cell_type": "markdown",
      "metadata": {
        "id": "fhSiHB0S3rpJ"
      },
      "source": [
        "***► NumPy Creating Arrays***\n",
        "\n",
        "*Create a NumPy ndarray Object*\n",
        "\n",
        "*   NumPy is used to work with arrays. The array object in NumPy is called ndarray\n",
        "*   To create an ndarray, we can pass a list, tuple or any array-like object into the array() method, and it will be converted into an ndarray.\n",
        "\n"
      ]
    },
    {
      "cell_type": "markdown",
      "metadata": {
        "id": "pk_2kZPs5IZR"
      },
      "source": [
        "**Example :→ Numpy array using Tuple**"
      ]
    },
    {
      "cell_type": "code",
      "execution_count": null,
      "metadata": {
        "colab": {
          "base_uri": "https://localhost:8080/"
        },
        "id": "a-j7UhC86iG5",
        "outputId": "d0ee339a-3e58-4fef-e0f7-172f8657e000"
      },
      "outputs": [
        {
          "name": "stdout",
          "output_type": "stream",
          "text": [
            "[10 20 30 40 50]\n",
            "<class 'numpy.ndarray'>\n"
          ]
        }
      ],
      "source": [
        "import numpy as np\n",
        "arr = np.array((10,20,30,40,50))\n",
        "print(arr)\n",
        "print(type(arr))"
      ]
    },
    {
      "cell_type": "markdown",
      "metadata": {
        "id": "IcbwoEyi7Eoi"
      },
      "source": [
        "***► Dimensions in Arrays***\n",
        "*   0-D Arrays\n",
        "*   1-D Arrays\n",
        "*   2-D Arrays\n",
        "*   3-D arrays\n",
        "\n"
      ]
    },
    {
      "cell_type": "markdown",
      "metadata": {
        "id": "hf46ykQ98cxk"
      },
      "source": [
        "**→ 0-D Arrays**"
      ]
    },
    {
      "cell_type": "code",
      "execution_count": null,
      "metadata": {
        "colab": {
          "base_uri": "https://localhost:8080/"
        },
        "id": "GxAe6UTT8T-z",
        "outputId": "57589dc1-e0a7-4bbe-a40b-43007d815ceb"
      },
      "outputs": [
        {
          "name": "stdout",
          "output_type": "stream",
          "text": [
            "11\n",
            "<class 'numpy.ndarray'>\n"
          ]
        }
      ],
      "source": [
        "import numpy as np\n",
        "arr = np.array(11)\n",
        "print(arr)\n",
        "print(type(arr))"
      ]
    },
    {
      "cell_type": "markdown",
      "metadata": {
        "id": "bwmLrXPG8ypq"
      },
      "source": [
        "**→ 1-D Arrays**"
      ]
    },
    {
      "cell_type": "code",
      "execution_count": null,
      "metadata": {
        "colab": {
          "base_uri": "https://localhost:8080/"
        },
        "id": "PVyxnbh881KC",
        "outputId": "74c00b44-cdae-4b96-878b-dfefeadf263a"
      },
      "outputs": [
        {
          "name": "stdout",
          "output_type": "stream",
          "text": [
            "[10 20 30 40]\n"
          ]
        }
      ],
      "source": [
        "import numpy as np\n",
        "arr = np.array([10,20,30,40])\n",
        "print(arr)"
      ]
    },
    {
      "cell_type": "markdown",
      "metadata": {
        "id": "pPPk5ryv9Bi4"
      },
      "source": [
        "**→ 2-D Arrays**"
      ]
    },
    {
      "cell_type": "code",
      "execution_count": null,
      "metadata": {
        "colab": {
          "base_uri": "https://localhost:8080/"
        },
        "id": "amN5i5ka9Hsq",
        "outputId": "a7cdd4e7-ed7f-44fe-dc73-038c5157592c"
      },
      "outputs": [
        {
          "name": "stdout",
          "output_type": "stream",
          "text": [
            "[[1 2 3 4]\n",
            " [5 6 7 8]]\n"
          ]
        }
      ],
      "source": [
        "import numpy as np\n",
        "arr = np.array([[1,2,3,4],[5,6,7,8]])\n",
        "print(arr)"
      ]
    },
    {
      "cell_type": "markdown",
      "metadata": {
        "id": "__te0ghM9fCL"
      },
      "source": [
        "**→ 3-D arrays**"
      ]
    },
    {
      "cell_type": "code",
      "execution_count": null,
      "metadata": {
        "colab": {
          "base_uri": "https://localhost:8080/"
        },
        "id": "CY1h3sgW9h8s",
        "outputId": "19f581de-58f3-483c-fb02-7de88c70813c"
      },
      "outputs": [
        {
          "name": "stdout",
          "output_type": "stream",
          "text": [
            "[[[ 1  2  3  4]\n",
            "  [ 5  6  7  8]]\n",
            "\n",
            " [[10 20 30 40]\n",
            "  [60 70 80 90]]]\n"
          ]
        }
      ],
      "source": [
        "import numpy as np\n",
        "arr = np.array([[[1,2,3,4],[5,6,7,8]],[[10,20,30,40],[60,70,80,90]]])\n",
        "print(arr)"
      ]
    },
    {
      "cell_type": "markdown",
      "metadata": {
        "id": "Pz7-4wDt-JnO"
      },
      "source": [
        "***► Check Number of Dimensions❓***\n",
        "\n",
        "*using **ndim** attribute*"
      ]
    },
    {
      "cell_type": "code",
      "execution_count": null,
      "metadata": {
        "colab": {
          "base_uri": "https://localhost:8080/"
        },
        "id": "mPfeNGaR-cmK",
        "outputId": "8fdab6be-6aa6-4c96-c69f-ef2e6d54e98e"
      },
      "outputs": [
        {
          "name": "stdout",
          "output_type": "stream",
          "text": [
            "n1 is  0 -D Array\n",
            "n2 is  1 -D Array\n",
            "n3 is  2 -D Array\n",
            "n4 is  3 -D Array\n"
          ]
        }
      ],
      "source": [
        "import numpy as np\n",
        "\n",
        "n1 = np.array(11)\n",
        "n2 = np.array([10,20,30,40])\n",
        "n3 = np.array([[1,2,3,4],[5,6,7,8]])\n",
        "n4 = np.array([[[1,2,3,4],[5,6,7,8]],[[10,20,30,40],[60,70,80,90]]])\n",
        "\n",
        "print(\"n1 is \",n1.ndim,\"-D Array\")\n",
        "print(\"n2 is \",n2.ndim,\"-D Array\")\n",
        "print(\"n3 is \",n3.ndim,\"-D Array\")\n",
        "print(\"n4 is \",n4.ndim,\"-D Array\")"
      ]
    },
    {
      "cell_type": "markdown",
      "metadata": {
        "id": "cRkZ5Yf2AmCp"
      },
      "source": [
        "***► Higher Dimensional Arrays***\n",
        "\n",
        "*An array can have any number of dimensions.*\n",
        "\n",
        "By using **ndmin** Attribute"
      ]
    },
    {
      "cell_type": "code",
      "execution_count": null,
      "metadata": {
        "colab": {
          "base_uri": "https://localhost:8080/"
        },
        "id": "C74KIT3bAxUS",
        "outputId": "02aeb827-e923-419a-b43d-c7e233519931"
      },
      "outputs": [
        {
          "name": "stdout",
          "output_type": "stream",
          "text": [
            "[[[[[[10 20 30 40]]]]]]\n",
            "Dimension of n2 is : 6\n"
          ]
        }
      ],
      "source": [
        "import numpy as np\n",
        "n2 = np.array([10,20,30,40], ndmin=6)\n",
        "print(n2)\n",
        "print(\"Dimension of n2 is :\", n2.ndim)"
      ]
    },
    {
      "cell_type": "markdown",
      "metadata": {
        "id": "nV5AQeR0yEuR"
      },
      "source": [
        "***► NumPy Array Indexing***\n",
        "\n",
        "*Access Array Elements*\n",
        "*   Array indexing is the same as accessing an array element.\n",
        "*   We can access an array element by referring to its index number.\n",
        "*   The indexes in NumPy arrays start with 0, meaning that the first element has index 0, and the second has index 1 etc.\n",
        "\n"
      ]
    },
    {
      "cell_type": "markdown",
      "metadata": {
        "id": "rYIPjrj4ypQR"
      },
      "source": [
        "**Example → **"
      ]
    },
    {
      "cell_type": "code",
      "execution_count": null,
      "metadata": {
        "colab": {
          "base_uri": "https://localhost:8080/"
        },
        "id": "bVqcKAQ9yuDg",
        "outputId": "6b2d8f30-0d67-4447-8d99-e789906d51d3"
      },
      "outputs": [
        {
          "name": "stdout",
          "output_type": "stream",
          "text": [
            "10\n",
            "11\n",
            "896885\n",
            "88\n"
          ]
        }
      ],
      "source": [
        "import numpy as np\n",
        "arr = np.array([10,11,22,33,44,55,66,7,8,9,1245,9999,896885])\n",
        "\n",
        "#Get the first element from the  array\n",
        "print(arr[0])\n",
        "\n",
        "#Get the second element from the  array\n",
        "print(arr[1])\n",
        "\n",
        "#Get the last element from the  array\n",
        "print(arr[-1])\n",
        "\n",
        "#Get the 4th element & 6th element from the array and add them\n",
        "print(arr[3] + arr[5])"
      ]
    },
    {
      "cell_type": "markdown",
      "metadata": {
        "id": "KC6prFNX6rG6"
      },
      "source": [
        "***► Access 2-D Array***"
      ]
    },
    {
      "cell_type": "code",
      "execution_count": null,
      "metadata": {
        "colab": {
          "base_uri": "https://localhost:8080/"
        },
        "id": "_wxaVp2p70Uh",
        "outputId": "709e5fbc-b3e7-408b-cc4c-34417e1ca671"
      },
      "outputs": [
        {
          "name": "stdout",
          "output_type": "stream",
          "text": [
            "[[1 2 3 4]\n",
            " [5 6 7 8]]\n",
            "third element of first row : 3\n",
            "third element of 2nd row : 7\n",
            "4th element of first row & 2nd element of 2nd row and add them : 10\n"
          ]
        }
      ],
      "source": [
        "import numpy as np\n",
        "arr = np.array([[1,2,3,4],[5,6,7,8]])\n",
        "print(arr)\n",
        "print(\"third element of first row :\",arr[0,2])\n",
        "\n",
        "print(\"third element of 2nd row :\",arr[1,2])\n",
        "\n",
        "print(\"4th element of first row & 2nd element of 2nd row and add them :\",arr[0,3] + arr[1,1])"
      ]
    },
    {
      "cell_type": "markdown",
      "metadata": {
        "id": "xYLaOi738aFq"
      },
      "source": [
        "***► Access 3-D Array***"
      ]
    },
    {
      "cell_type": "code",
      "execution_count": null,
      "metadata": {
        "colab": {
          "base_uri": "https://localhost:8080/"
        },
        "id": "7uwwl2Xi8g3D",
        "outputId": "73f2c5b9-53b0-481f-ab23-b6df248e4081"
      },
      "outputs": [
        {
          "name": "stdout",
          "output_type": "stream",
          "text": [
            "[[[ 1  2  3  4]\n",
            "  [ 5  6  7  8]]\n",
            "\n",
            " [[10 20 30 40]\n",
            "  [60 70 80 90]]]\n",
            "1\n",
            "8\n",
            "30\n"
          ]
        }
      ],
      "source": [
        "import numpy as np\n",
        "arr = np.array([[[1,2,3,4],[5,6,7,8]],[[10,20,30,40],[60,70,80,90]]])\n",
        "print(arr)\n",
        "print(arr[0,0,0])\n",
        "print(arr[0,1,3])\n",
        "print(arr[1,0,2])"
      ]
    },
    {
      "cell_type": "markdown",
      "metadata": {
        "id": "jskjNl-xQIoC"
      },
      "source": [
        "***► NumPy Array Slicing***\n",
        "\n",
        "**→Slicing arrays**\n",
        "* Slicing in python means taking elements from one given index to another given index.\n",
        "* We pass slice instead of index like this: [start:end].\n",
        "* We can also define the step, like this: [start:end:step].\n",
        "* If we don't pass start its considered 0\n",
        "* If we don't pass end its considered length of array in that dimension\n",
        "* If we don't pass step its considered 1\n",
        "\n"
      ]
    },
    {
      "cell_type": "markdown",
      "metadata": {
        "id": "v_46La7qRIy7"
      },
      "source": [
        "**→ Example 1:**"
      ]
    },
    {
      "cell_type": "code",
      "execution_count": null,
      "metadata": {
        "colab": {
          "base_uri": "https://localhost:8080/"
        },
        "id": "zSv2R28MQIXT",
        "outputId": "7a323294-8751-4780-bbc3-c9a94ddbb136"
      },
      "outputs": [
        {
          "name": "stdout",
          "output_type": "stream",
          "text": [
            "[11 22]\n"
          ]
        }
      ],
      "source": [
        "#Slice elements from index 1 to index 3 from the following array:\n",
        "import numpy as np\n",
        "arr = np.array([10,11,22,33,44,55,66,7,8,9,12,45,99,89,68,85])\n",
        "print(arr[1:3])"
      ]
    },
    {
      "cell_type": "markdown",
      "metadata": {
        "id": "hnx6cicoRYci"
      },
      "source": [
        "**Note:** The result includes the start index, but excludes the end index."
      ]
    },
    {
      "cell_type": "markdown",
      "metadata": {
        "id": "xD17_Q7laOsy"
      },
      "source": [
        "**→ Example 2:**"
      ]
    },
    {
      "cell_type": "code",
      "execution_count": null,
      "metadata": {
        "colab": {
          "base_uri": "https://localhost:8080/"
        },
        "id": "UHnqvAcJaAMD",
        "outputId": "d6250242-36a5-445d-a016-f682ad806435"
      },
      "outputs": [
        {
          "name": "stdout",
          "output_type": "stream",
          "text": [
            "[66  7  8  9 12 45 99 89 68 85]\n"
          ]
        }
      ],
      "source": [
        "#Slice elements from index 6 to the end of the array:\n",
        "import numpy as np\n",
        "arr = np.array([10,11,22,33,44,55,66,7,8,9,12,45,99,89,68,85])\n",
        "\n",
        "print(arr[6:])"
      ]
    },
    {
      "cell_type": "markdown",
      "metadata": {
        "id": "PhKwMcTZbS8C"
      },
      "source": [
        "**→ Example 3:**"
      ]
    },
    {
      "cell_type": "code",
      "execution_count": null,
      "metadata": {
        "colab": {
          "base_uri": "https://localhost:8080/"
        },
        "id": "ubnjRXFqbUdq",
        "outputId": "f9dc9683-1df0-4991-f0b8-2ca47cf61773"
      },
      "outputs": [
        {
          "name": "stdout",
          "output_type": "stream",
          "text": [
            "[10 11 22 33 44 55 66  7]\n"
          ]
        }
      ],
      "source": [
        "#Slice elements from the beginning to index 8 (not included):\n",
        "import numpy as np\n",
        "arr = np.array([10,11,22,33,44,55,66,7,8,9,12,45,99,89,68,85])\n",
        "\n",
        "print(arr[:8])"
      ]
    },
    {
      "cell_type": "markdown",
      "metadata": {
        "id": "0j8K_NZCbm_r"
      },
      "source": [
        "**► Negative Slicing**"
      ]
    },
    {
      "cell_type": "code",
      "execution_count": null,
      "metadata": {
        "colab": {
          "base_uri": "https://localhost:8080/"
        },
        "id": "50Fmhg4icP4c",
        "outputId": "e18d2202-1177-4a5b-bd3c-150948addaec"
      },
      "outputs": [
        {
          "name": "stdout",
          "output_type": "stream",
          "text": [
            "[12 45 99 89 68]\n",
            "[33 44 55 66  7  8  9]\n"
          ]
        }
      ],
      "source": [
        "import numpy as np\n",
        "arr = np.array([10,11,22,33,44,55,66,7,8,9,12,45,99,89,68,85])\n",
        "\n",
        "print(arr[-6:-1])\n",
        "print(arr[-13:-6])"
      ]
    },
    {
      "cell_type": "markdown",
      "metadata": {
        "id": "aqBzXYeJdfEV"
      },
      "source": [
        "**► Slicing 2-D Array**"
      ]
    },
    {
      "cell_type": "code",
      "execution_count": null,
      "metadata": {
        "colab": {
          "base_uri": "https://localhost:8080/"
        },
        "id": "wZzt7o0JdlcT",
        "outputId": "6f06b8ec-58bd-40ba-d44f-64e22554bff2"
      },
      "outputs": [
        {
          "name": "stdout",
          "output_type": "stream",
          "text": [
            "[2 3]\n",
            "[2 3 4]\n",
            "[3 4]\n",
            "[5 6 7 8]\n"
          ]
        }
      ],
      "source": [
        "import numpy as np\n",
        "arr = np.array([[1,2,3,4],[5,6,7,8]])\n",
        "\n",
        "print(arr[0,1:3])\n",
        "print(arr[0, 1:4])\n",
        "print(arr[0, 2:8])\n",
        "\n",
        "print(arr[1, 0:4])"
      ]
    },
    {
      "cell_type": "markdown",
      "metadata": {
        "id": "7TlrLKrjfQOL"
      },
      "source": [
        "***► Both Slicing***"
      ]
    },
    {
      "cell_type": "code",
      "execution_count": null,
      "metadata": {
        "colab": {
          "base_uri": "https://localhost:8080/"
        },
        "id": "YC00AJ2kfPcM",
        "outputId": "08b0bec8-97cb-45a8-aa5b-32d43fc4f616"
      },
      "outputs": [
        {
          "name": "stdout",
          "output_type": "stream",
          "text": [
            "[2 6]\n",
            "[4 8]\n",
            "[[2 3]\n",
            " [6 7]]\n"
          ]
        }
      ],
      "source": [
        "import numpy as np\n",
        "arr = np.array([[1,2,3,4],[5,6,7,8]])\n",
        "\n",
        "print(arr[0:2 ,1])\n",
        "print(arr[0:2, 3])\n",
        "\n",
        "print(arr[0:2 , 1:3 ])"
      ]
    },
    {
      "cell_type": "markdown",
      "metadata": {
        "id": "4PYDg6P5f9YO"
      },
      "source": [
        "***► Step Slicing***"
      ]
    },
    {
      "cell_type": "code",
      "execution_count": null,
      "metadata": {
        "colab": {
          "base_uri": "https://localhost:8080/"
        },
        "id": "XvO01SIJgBu0",
        "outputId": "783ce53f-b6b8-46e3-cb30-83b0558ec69b"
      },
      "outputs": [
        {
          "name": "stdout",
          "output_type": "stream",
          "text": [
            "[2 4 6]\n",
            "[2 5 8]\n",
            "[1 4 7]\n"
          ]
        }
      ],
      "source": [
        "import numpy as np\n",
        "arr = np.array([1,2,3,4,5,6,7,8])\n",
        "\n",
        "print(arr[1:6:2])\n",
        "print(arr[1:8:3])\n",
        "print(arr[::3])"
      ]
    },
    {
      "cell_type": "markdown",
      "metadata": {
        "id": "gBxSccov6M6O"
      },
      "source": [
        "***► NumPy Data Types***\n",
        "\n",
        "**Data Types in Python**\n",
        "*   strings - used to represent text data, the text is given under quote marks. e.g. \"ABCD\"\n",
        "*  integer - used to represent integer numbers. e.g. -1, -2, -3,4,5\n",
        "*  float - used to represent real numbers. e.g. 1.2, 42.42\n",
        "*  boolean - used to represent True or False.\n",
        "*  complex - used to represent complex numbers. e.g. 1.0 + 2.0j, 1.5 + 2.5j\n",
        "\n",
        "**Data Types in NumPy**\n",
        "* i - integer\n",
        "* b - boolean\n",
        "* u - unsigned integer\n",
        "* f - float\n",
        "* c - complex float\n",
        "* m - timedelta\n",
        "* M - datetime\n",
        "* O - object\n",
        "* S - string\n",
        "* U - unicode string\n",
        "* V - fixed chunk of memory for other type ( void )"
      ]
    },
    {
      "cell_type": "markdown",
      "metadata": {
        "id": "4EVAT57G7Aze"
      },
      "source": [
        "**► Checking the Data Type of an Array**\n",
        "\n",
        "using **dtype** "
      ]
    },
    {
      "cell_type": "markdown",
      "metadata": {
        "id": "rovgbn2t7DeP"
      },
      "source": [
        "**→ Example 1**"
      ]
    },
    {
      "cell_type": "code",
      "execution_count": null,
      "metadata": {
        "colab": {
          "base_uri": "https://localhost:8080/"
        },
        "id": "whQp8RNi7T7x",
        "outputId": "08847e1f-b31f-4455-eacc-be5f38e8a021"
      },
      "outputs": [
        {
          "name": "stdout",
          "output_type": "stream",
          "text": [
            "int64\n"
          ]
        }
      ],
      "source": [
        "import numpy as np\n",
        "arr = np.array([1, 2, -3, 4])\n",
        "print(arr.dtype)"
      ]
    },
    {
      "cell_type": "markdown",
      "metadata": {
        "id": "L7CqChXr7Qyn"
      },
      "source": [
        "**→ Example 2**"
      ]
    },
    {
      "cell_type": "code",
      "execution_count": null,
      "metadata": {
        "colab": {
          "base_uri": "https://localhost:8080/"
        },
        "id": "-yrMuren7bmP",
        "outputId": "2a5ec394-6d18-4f72-b706-069c6952d3c5"
      },
      "outputs": [
        {
          "output_type": "stream",
          "name": "stdout",
          "text": [
            "<U17\n"
          ]
        }
      ],
      "source": [
        "import numpy as np\n",
        "arr = np.array(['YouTube','Simplifiedlearner','Google' , 'Apple'])\n",
        "print(arr.dtype)"
      ]
    },
    {
      "cell_type": "markdown",
      "metadata": {
        "id": "lPSSb5Oc_BH-"
      },
      "source": [
        "**► Converting Data Type on Existing Arrays**\n",
        "\n",
        "using **astype()**"
      ]
    },
    {
      "cell_type": "code",
      "source": [
        "import numpy as np\n",
        "arr = np.array([1.1,2.6,9.89,5.76])\n",
        "print(arr.dtype)\n",
        "\n",
        "n1 = arr.astype(\"i\")\n",
        "print(\"The new array is :\", n1)\n",
        "print(n1.dtype)"
      ],
      "metadata": {
        "colab": {
          "base_uri": "https://localhost:8080/"
        },
        "id": "6CuuVYTDcrrQ",
        "outputId": "81e7e95e-beb4-454b-d4fb-a13644696d4d"
      },
      "execution_count": null,
      "outputs": [
        {
          "output_type": "stream",
          "name": "stdout",
          "text": [
            "float64\n",
            "The new array is : [1 2 9 5]\n",
            "int32\n"
          ]
        }
      ]
    },
    {
      "cell_type": "markdown",
      "source": [
        "***► NumPy Array Copy vs View***\n",
        "*   The Difference Between Copy and View : The main difference between a copy and a view of an array is that the copy is a new array, and the view is just a view of the original array.\n",
        "*   The copy owns the data and any changes made to the copy will not affect original array, and any changes made to the original array will not affect the copy.\n",
        "*  The view does not own the data and any changes made to the view will affect the original array, and any changes made to the original array will affect the view."
      ],
      "metadata": {
        "id": "paX8yCzodqzK"
      }
    },
    {
      "cell_type": "markdown",
      "source": [
        "**→ COPY: Examples**"
      ],
      "metadata": {
        "id": "ddULIGNpesjY"
      }
    },
    {
      "cell_type": "code",
      "source": [
        "import numpy as np\n",
        "arr = np.array([1,2,3,4,5,6])\n",
        "\n",
        "n1 = arr.copy()\n",
        "\n",
        "arr[2] = 50\n",
        "\n",
        "n1[0] = 89\n",
        "\n",
        "print(\"Original Data:\", arr)\n",
        "print(\"Copied Data:\", n1)"
      ],
      "metadata": {
        "colab": {
          "base_uri": "https://localhost:8080/"
        },
        "id": "pBgkioPjeyyn",
        "outputId": "413c2a3d-c192-43db-a271-a9c5fe9cdc59"
      },
      "execution_count": null,
      "outputs": [
        {
          "output_type": "stream",
          "name": "stdout",
          "text": [
            "Original Data: [ 1  2 50  4  5  6]\n",
            "Copied Data: [89  2  3  4  5  6]\n"
          ]
        }
      ]
    },
    {
      "cell_type": "markdown",
      "source": [
        "***→ VIEW: Example***"
      ],
      "metadata": {
        "id": "_VX9rdN1fDwA"
      }
    },
    {
      "cell_type": "code",
      "source": [
        "import numpy as np\n",
        "arr = np.array([1,2,3,4,5,6])\n",
        "\n",
        "n1 = arr.view()\n",
        "\n",
        "arr[0] = 22\n",
        "n1[-1] = 8\n",
        "\n",
        "print(\"Original Data:\", arr)\n",
        "print(\"Viewed Data:\", n1)"
      ],
      "metadata": {
        "colab": {
          "base_uri": "https://localhost:8080/"
        },
        "id": "88E79Gx-fNBA",
        "outputId": "ff12df9a-bcb7-4d1c-be2c-1d40a0fd3454"
      },
      "execution_count": null,
      "outputs": [
        {
          "output_type": "stream",
          "name": "stdout",
          "text": [
            "Original Data: [22  2  3  4  5  8]\n",
            "Viewed Data: [22  2  3  4  5  8]\n"
          ]
        }
      ]
    },
    {
      "cell_type": "markdown",
      "source": [
        "***► Numpy Array Shapes***"
      ],
      "metadata": {
        "id": "3XtWoMSLiCtw"
      }
    },
    {
      "cell_type": "code",
      "source": [
        "import numpy as np\n",
        "arr = np.array([[1,2,3,4],[5,6,7,8]])\n",
        "print(arr)\n",
        "\n",
        "print(\"Dimension of array is :\", arr.ndim)\n",
        "print(\"Shape of this array is :\", arr.shape)"
      ],
      "metadata": {
        "colab": {
          "base_uri": "https://localhost:8080/"
        },
        "id": "TSR_x7vRizgQ",
        "outputId": "a04f2560-c0d6-41dd-efa8-b256b1d3a963"
      },
      "execution_count": null,
      "outputs": [
        {
          "output_type": "stream",
          "name": "stdout",
          "text": [
            "[[1 2 3 4]\n",
            " [5 6 7 8]]\n",
            "Dimension of array is : 2\n",
            "Shape of this array is : (2, 4)\n"
          ]
        }
      ]
    },
    {
      "cell_type": "markdown",
      "source": [
        "***► NumPy Array Reshaping***"
      ],
      "metadata": {
        "id": "rmBH2eTDjhn5"
      }
    },
    {
      "cell_type": "markdown",
      "source": [
        "*→ Reshape From 1-D to 2-D*"
      ],
      "metadata": {
        "id": "eXzyvBcNjptB"
      }
    },
    {
      "cell_type": "code",
      "source": [
        "import numpy as np\n",
        "arr = np.array([5,10,15,20,25,30,35,40,45,50,55,60])\n",
        "print(\"Dimension of Original Array:\",arr.ndim)\n",
        "\n",
        "n1 = arr.reshape(3,4)\n",
        "\n",
        "print(\"Original Array:\", arr)\n",
        "print(\"Reshaped Array:→\")\n",
        "print(n1)\n",
        "print(\"Dimension of Reshaped Array:\",n1.ndim)\n"
      ],
      "metadata": {
        "colab": {
          "base_uri": "https://localhost:8080/"
        },
        "id": "iYcJYQiJl-1i",
        "outputId": "b12c8019-609b-4203-9fa1-6daa866740c6"
      },
      "execution_count": null,
      "outputs": [
        {
          "output_type": "stream",
          "name": "stdout",
          "text": [
            "Dimension of Original Array: 1\n",
            "Original Array: [ 5 10 15 20 25 30 35 40 45 50 55 60]\n",
            "Reshaped Array:→\n",
            "[[ 5 10 15 20]\n",
            " [25 30 35 40]\n",
            " [45 50 55 60]]\n",
            "Dimension of Reshaped Array: 2\n"
          ]
        }
      ]
    },
    {
      "cell_type": "markdown",
      "source": [
        "*→ Reshape From 1-D to 3-D*"
      ],
      "metadata": {
        "id": "KwFj2YJ6jt2g"
      }
    },
    {
      "cell_type": "code",
      "source": [
        "import numpy as np\n",
        "arr = np.array([5,10,15,20,25,30,35,40,45,50,55,60])\n",
        "\n",
        "n1 = arr.reshape(2,3,2)\n",
        "\n",
        "print(\"Original Array:\", arr)\n",
        "print(\"Dimension of Original Array:\",arr.ndim)\n",
        "\n",
        "print(\"Reshaped Array:→\")\n",
        "print(n1)\n",
        "print(\"Dimension of Reshaped Array:\",n1.ndim)"
      ],
      "metadata": {
        "colab": {
          "base_uri": "https://localhost:8080/"
        },
        "id": "MlZzhlISnuOR",
        "outputId": "7ea62105-245b-4336-e742-164b7e25d3d3"
      },
      "execution_count": null,
      "outputs": [
        {
          "output_type": "stream",
          "name": "stdout",
          "text": [
            "Original Array: [ 5 10 15 20 25 30 35 40 45 50 55 60]\n",
            "Dimension of Original Array: 1\n",
            "Reshaped Array:→\n",
            "[[[ 5 10]\n",
            "  [15 20]\n",
            "  [25 30]]\n",
            "\n",
            " [[35 40]\n",
            "  [45 50]\n",
            "  [55 60]]]\n",
            "Dimension of Reshaped Array: 3\n"
          ]
        }
      ]
    },
    {
      "cell_type": "markdown",
      "source": [
        "***► NumPy Array Iterating***\n",
        "\n",
        "Iterating means going through elements one by one."
      ],
      "metadata": {
        "id": "ciQunuMTorzx"
      }
    },
    {
      "cell_type": "markdown",
      "source": [
        "**→ Example 1**\n",
        "*   Iterate 1-D array"
      ],
      "metadata": {
        "id": "3Bw7D0gno6FZ"
      }
    },
    {
      "cell_type": "code",
      "source": [
        "import numpy as np\n",
        "arr = np.array([5,10,15,20,25,30,35,40,45,50,55,60])\n",
        "\n",
        "for x in arr:\n",
        "  print(x)"
      ],
      "metadata": {
        "colab": {
          "base_uri": "https://localhost:8080/"
        },
        "id": "0CxyiuuJpKHI",
        "outputId": "d0ac298a-4133-4b06-8f65-342259331f38"
      },
      "execution_count": null,
      "outputs": [
        {
          "output_type": "stream",
          "name": "stdout",
          "text": [
            "5\n",
            "10\n",
            "15\n",
            "20\n",
            "25\n",
            "30\n",
            "35\n",
            "40\n",
            "45\n",
            "50\n",
            "55\n",
            "60\n"
          ]
        }
      ]
    },
    {
      "cell_type": "markdown",
      "source": [
        "**→ Example 2**\n",
        "*   Iterate 2-D array"
      ],
      "metadata": {
        "id": "Qu18pkO0oz3R"
      }
    },
    {
      "cell_type": "code",
      "source": [
        "import numpy as np\n",
        "arr = np.array([[1,2,3,4],[5,6,7,8]])\n",
        "\n",
        "for x in arr:\n",
        "  print(x)"
      ],
      "metadata": {
        "colab": {
          "base_uri": "https://localhost:8080/"
        },
        "id": "NNRf-TVCpWeC",
        "outputId": "1741de4e-e8d5-4e52-d895-ce8519253350"
      },
      "execution_count": null,
      "outputs": [
        {
          "output_type": "stream",
          "name": "stdout",
          "text": [
            "[1 2 3 4]\n",
            "[5 6 7 8]\n"
          ]
        }
      ]
    },
    {
      "cell_type": "markdown",
      "source": [
        "**→ Example 3**\n",
        "*   Iterate 2-D array in scalar manner"
      ],
      "metadata": {
        "id": "9CO0kx2wpeic"
      }
    },
    {
      "cell_type": "code",
      "source": [
        "import numpy as np\n",
        "arr = np.array([[1,2,3,4],[5,6,7,8]])\n",
        "\n",
        "for x in arr:\n",
        "  for y in x:\n",
        "    print(y)"
      ],
      "metadata": {
        "colab": {
          "base_uri": "https://localhost:8080/"
        },
        "id": "G8lyk1yHprMJ",
        "outputId": "a2045da1-bc34-47c7-9496-f780299dc90e"
      },
      "execution_count": null,
      "outputs": [
        {
          "output_type": "stream",
          "name": "stdout",
          "text": [
            "1\n",
            "2\n",
            "3\n",
            "4\n",
            "5\n",
            "6\n",
            "7\n",
            "8\n"
          ]
        }
      ]
    },
    {
      "cell_type": "markdown",
      "source": [
        "**→ Example 4**\n",
        "* Iterate 3-D array"
      ],
      "metadata": {
        "id": "X78Yax8vprvS"
      }
    },
    {
      "cell_type": "code",
      "source": [
        "import numpy as np\n",
        "arr = np.array([[[1,2,3,4],[5,6,7,8]],[[10,20,30,40],[60,70,80,90]]])\n",
        "\n",
        "for x in arr:\n",
        "  print(x)"
      ],
      "metadata": {
        "colab": {
          "base_uri": "https://localhost:8080/"
        },
        "id": "672kaGFDp13h",
        "outputId": "4d8753f9-5412-448f-f048-9b518165cb73"
      },
      "execution_count": null,
      "outputs": [
        {
          "output_type": "stream",
          "name": "stdout",
          "text": [
            "[[1 2 3 4]\n",
            " [5 6 7 8]]\n",
            "[[10 20 30 40]\n",
            " [60 70 80 90]]\n"
          ]
        }
      ]
    },
    {
      "cell_type": "markdown",
      "source": [
        "**→ Example 5** **bold text**\n",
        "* Iterate 3-D array in scalar manner"
      ],
      "metadata": {
        "id": "TbKwhjdQp2Ec"
      }
    },
    {
      "cell_type": "code",
      "source": [
        "import numpy as np\n",
        "arr = np.array([[[1,2,3,4],[5,6,7,8]],[[10,20,30,40],[60,70,80,90]]])\n",
        "\n",
        "for x in arr:\n",
        "  for y in x:\n",
        "    for z in y:\n",
        "      print(z)"
      ],
      "metadata": {
        "colab": {
          "base_uri": "https://localhost:8080/"
        },
        "id": "669iYCfzp-uT",
        "outputId": "df76a406-ea5e-4ed4-e422-1f248e4cdded"
      },
      "execution_count": null,
      "outputs": [
        {
          "output_type": "stream",
          "name": "stdout",
          "text": [
            "1\n",
            "2\n",
            "3\n",
            "4\n",
            "5\n",
            "6\n",
            "7\n",
            "8\n",
            "10\n",
            "20\n",
            "30\n",
            "40\n",
            "60\n",
            "70\n",
            "80\n",
            "90\n"
          ]
        }
      ]
    },
    {
      "cell_type": "markdown",
      "source": [
        "**→Iterating Arrays Using nditer()**"
      ],
      "metadata": {
        "id": "W3p34EjYqDQy"
      }
    },
    {
      "cell_type": "code",
      "source": [
        "import numpy as np\n",
        "arr = np.array([[[1,2,3,4],[5,6,7,8]],[[10,20,30,40],[60,70,80,90]]])\n",
        "\n",
        "for x in np.nditer(arr):\n",
        "  print(x)"
      ],
      "metadata": {
        "colab": {
          "base_uri": "https://localhost:8080/"
        },
        "id": "3c5fsh8WqE-M",
        "outputId": "34827b50-70ee-4c70-d004-0a776b1bc6ee"
      },
      "execution_count": null,
      "outputs": [
        {
          "output_type": "stream",
          "name": "stdout",
          "text": [
            "1\n",
            "2\n",
            "3\n",
            "4\n",
            "5\n",
            "6\n",
            "7\n",
            "8\n",
            "10\n",
            "20\n",
            "30\n",
            "40\n",
            "60\n",
            "70\n",
            "80\n",
            "90\n"
          ]
        }
      ]
    },
    {
      "cell_type": "markdown",
      "source": [
        "**► Iterating With Different Step Size**"
      ],
      "metadata": {
        "id": "4uyo715Ksyby"
      }
    },
    {
      "cell_type": "code",
      "source": [
        "import numpy as np\n",
        "#arr = np.array([[1, 2, 3, 4], [5, 6, 7, 8]])\n",
        "arr = np.array([[[1,2,3,4],[5,6,7,8]],[[10,20,30,40],[60,70,80,90]]])\n",
        "\n",
        "for x in np.nditer(arr[:, ::3]):\n",
        "  print(x)"
      ],
      "metadata": {
        "colab": {
          "base_uri": "https://localhost:8080/"
        },
        "id": "ak3yBZ1zs09F",
        "outputId": "623b7b38-9fd7-4fcf-8f6d-f2f26b39e300"
      },
      "execution_count": null,
      "outputs": [
        {
          "output_type": "stream",
          "name": "stdout",
          "text": [
            "1\n",
            "2\n",
            "3\n",
            "4\n",
            "10\n",
            "20\n",
            "30\n",
            "40\n"
          ]
        }
      ]
    },
    {
      "cell_type": "markdown",
      "source": [
        "***► Enumerated Iteration Using ndenumerate()***\n",
        "\n"
      ],
      "metadata": {
        "id": "cUwYzoaItq-M"
      }
    },
    {
      "cell_type": "code",
      "source": [
        "import numpy as np\n",
        "arr = np.array([[1, 2, 3, 4], [5, 6, 7, 8]])\n",
        "print(arr)\n",
        "\n",
        "for x,y in np.ndenumerate(arr):\n",
        "  print(x,y)"
      ],
      "metadata": {
        "colab": {
          "base_uri": "https://localhost:8080/"
        },
        "id": "rePnBvSOt70y",
        "outputId": "6b44b0d2-b165-460c-fd65-a7f1eda6a6ca"
      },
      "execution_count": null,
      "outputs": [
        {
          "output_type": "stream",
          "name": "stdout",
          "text": [
            "[[1 2 3 4]\n",
            " [5 6 7 8]]\n",
            "(0, 0) 1\n",
            "(0, 1) 2\n",
            "(0, 2) 3\n",
            "(0, 3) 4\n",
            "(1, 0) 5\n",
            "(1, 1) 6\n",
            "(1, 2) 7\n",
            "(1, 3) 8\n"
          ]
        }
      ]
    },
    {
      "cell_type": "markdown",
      "source": [
        "***► NumPy Joining Array***\n",
        "* Joining means putting contents of two or more arrays in a single array.\n",
        "* In SQL we join tables based on a key, whereas in NumPy we join arrays by axes."
      ],
      "metadata": {
        "id": "Yg1dUpkj4ous"
      }
    },
    {
      "cell_type": "code",
      "source": [
        "#Join two arays\n",
        "import numpy as np\n",
        "\n",
        "n1 = np.array([5,10,15,20])\n",
        "n2 = np.array([2,4,6,8])\n",
        "\n",
        "arr = np.concatenate((n2,n1))\n",
        "print(arr)"
      ],
      "metadata": {
        "colab": {
          "base_uri": "https://localhost:8080/"
        },
        "id": "2zwdxfbC5JNs",
        "outputId": "b718f24c-79ac-4ee1-9bd6-66015e56cae4"
      },
      "execution_count": null,
      "outputs": [
        {
          "output_type": "stream",
          "name": "stdout",
          "text": [
            "[ 2  4  6  8  5 10 15 20]\n"
          ]
        }
      ]
    },
    {
      "cell_type": "code",
      "source": [
        "#Join two 2-D array\n",
        "import numpy as np\n",
        "\n",
        "n1 = np.array([[1,2],[3,4]])\n",
        "n2 = np.array([[6,7],[8,9]])\n",
        "\n",
        "arr = np.concatenate((n1,n2))\n",
        "\n",
        "print(arr)"
      ],
      "metadata": {
        "colab": {
          "base_uri": "https://localhost:8080/"
        },
        "id": "vq1wjfVd6pdU",
        "outputId": "aa95b904-e80d-4040-e8d1-6e3dc70fc997"
      },
      "execution_count": null,
      "outputs": [
        {
          "output_type": "stream",
          "name": "stdout",
          "text": [
            "[[1 2]\n",
            " [3 4]\n",
            " [6 7]\n",
            " [8 9]]\n"
          ]
        }
      ]
    },
    {
      "cell_type": "code",
      "source": [
        "#Join two 2-D arrays along rows (axis=1):\n",
        "import numpy as np\n",
        "\n",
        "n1 = np.array([[1,2],[3,4]])\n",
        "n2 = np.array([[6,7],[8,9]])\n",
        "\n",
        "arr = np.concatenate((n1,n2), axis=1)\n",
        "\n",
        "print(arr)"
      ],
      "metadata": {
        "colab": {
          "base_uri": "https://localhost:8080/"
        },
        "id": "rWNWpbzG8r9T",
        "outputId": "b410b5dc-56f2-4a1f-a17e-7235445cd108"
      },
      "execution_count": null,
      "outputs": [
        {
          "output_type": "stream",
          "name": "stdout",
          "text": [
            "[[1 2 6 7]\n",
            " [3 4 8 9]]\n"
          ]
        }
      ]
    },
    {
      "cell_type": "markdown",
      "source": [
        "***► Joining Arrays Using Stack Functions***"
      ],
      "metadata": {
        "id": "sANx-GGO6xBj"
      }
    },
    {
      "cell_type": "code",
      "source": [
        "import numpy as np\n",
        "\n",
        "n1 = np.array([5,10,15,20])\n",
        "n2 = np.array([2,4,6,8])\n",
        "\n",
        "arr = np.stack((n1,n2), axis=1)\n",
        "\n",
        "print(arr)"
      ],
      "metadata": {
        "colab": {
          "base_uri": "https://localhost:8080/"
        },
        "id": "RGdkaDnJ6tBd",
        "outputId": "fc0b761d-6fe1-469e-ceb2-a4560bd784f5"
      },
      "execution_count": null,
      "outputs": [
        {
          "output_type": "stream",
          "name": "stdout",
          "text": [
            "[[ 5  2]\n",
            " [10  4]\n",
            " [15  6]\n",
            " [20  8]]\n"
          ]
        }
      ]
    },
    {
      "cell_type": "code",
      "source": [
        "#Stacking Along Rows →hstack\n",
        "import numpy as np\n",
        "\n",
        "n1 = np.array([5,10,15,20])\n",
        "n2 = np.array([2,4,6,8])\n",
        "\n",
        "arr = np.hstack((n1,n2))\n",
        "\n",
        "print(arr)"
      ],
      "metadata": {
        "colab": {
          "base_uri": "https://localhost:8080/"
        },
        "id": "W0Gi2zb366SE",
        "outputId": "ba76e6ca-d39b-4611-8eef-ef2df0372027"
      },
      "execution_count": null,
      "outputs": [
        {
          "output_type": "stream",
          "name": "stdout",
          "text": [
            "[ 5 10 15 20  2  4  6  8]\n"
          ]
        }
      ]
    },
    {
      "cell_type": "code",
      "source": [
        "#Stacking Along Columns → vstack\n",
        "import numpy as np\n",
        "\n",
        "n1 = np.array([5,10,15,20])\n",
        "n2 = np.array([2,4,6,8])\n",
        "\n",
        "arr = np.vstack((n1,n2))\n",
        "\n",
        "print(arr)"
      ],
      "metadata": {
        "colab": {
          "base_uri": "https://localhost:8080/"
        },
        "id": "gIre-foO67wk",
        "outputId": "c1f3d7ea-bdbc-4ff7-d64a-3c8ce590b6dd"
      },
      "execution_count": null,
      "outputs": [
        {
          "output_type": "stream",
          "name": "stdout",
          "text": [
            "[[ 5 10 15 20]\n",
            " [ 2  4  6  8]]\n"
          ]
        }
      ]
    },
    {
      "cell_type": "code",
      "source": [
        "#Stacking Along Height (depth) → dstack\n",
        "import numpy as np\n",
        "\n",
        "n1 = np.array([5,10,15,20])\n",
        "n2 = np.array([2,4,6,8])\n",
        "\n",
        "arr = np.dstack((n1,n2))\n",
        "\n",
        "print(arr)"
      ],
      "metadata": {
        "colab": {
          "base_uri": "https://localhost:8080/"
        },
        "id": "VRh_DXnv6888",
        "outputId": "f642f63c-3a46-4348-b804-7646a0840dab"
      },
      "execution_count": null,
      "outputs": [
        {
          "output_type": "stream",
          "name": "stdout",
          "text": [
            "[[[ 5  2]\n",
            "  [10  4]\n",
            "  [15  6]\n",
            "  [20  8]]]\n"
          ]
        }
      ]
    },
    {
      "cell_type": "markdown",
      "source": [
        "***► NumPy Searching Arrays***\n",
        "\n",
        "return the indexes that get a match."
      ],
      "metadata": {
        "id": "y9Wb876M-W2d"
      }
    },
    {
      "cell_type": "code",
      "source": [
        "#Example 1\n",
        "import numpy as np\n",
        "n1 = np.array([5,10,15,5,5,20,5,2])\n",
        "\n",
        "arr = np.where(n1 == 5)\n",
        "print(arr) #this will return index of all the 5"
      ],
      "metadata": {
        "colab": {
          "base_uri": "https://localhost:8080/"
        },
        "id": "uAfw43LL-hGX",
        "outputId": "19da8ced-5ec8-437d-c0cc-dc9a6460e6ac"
      },
      "execution_count": null,
      "outputs": [
        {
          "output_type": "stream",
          "name": "stdout",
          "text": [
            "(array([0, 3, 4, 6]),)\n"
          ]
        }
      ]
    },
    {
      "cell_type": "code",
      "source": [
        "#Example 2\n",
        "import numpy as np\n",
        "\n",
        "n1 = np.array([[1,2,1,5,1],[1,5,1,3,4]])\n",
        "\n",
        "arr = np.where(n1 == 1)\n",
        "print(arr) \n"
      ],
      "metadata": {
        "colab": {
          "base_uri": "https://localhost:8080/"
        },
        "id": "mm7fBIPG_sUM",
        "outputId": "f73387c6-1bf3-4aac-fc93-08fb14ebc78b"
      },
      "execution_count": null,
      "outputs": [
        {
          "output_type": "stream",
          "name": "stdout",
          "text": [
            "(array([0, 0, 0, 1, 1]), array([0, 2, 4, 0, 2]))\n"
          ]
        }
      ]
    },
    {
      "cell_type": "code",
      "source": [
        "#Example 3\n",
        "import numpy as np\n",
        "n1 = np.array([5,10,15,5,24,20,5,2])\n",
        "\n",
        "arr = np.where(n1%2 == 0)\n",
        "print(arr) #returns index of all even number"
      ],
      "metadata": {
        "colab": {
          "base_uri": "https://localhost:8080/"
        },
        "id": "Pgj39yZI_yxp",
        "outputId": "242cf21d-e9cf-4ed0-be3e-4fd118180dbe"
      },
      "execution_count": null,
      "outputs": [
        {
          "output_type": "stream",
          "name": "stdout",
          "text": [
            "(array([1, 4, 5, 7]),)\n"
          ]
        }
      ]
    },
    {
      "cell_type": "markdown",
      "source": [
        "***► Search Sorted***"
      ],
      "metadata": {
        "id": "shwuK6CLAYVK"
      }
    },
    {
      "cell_type": "code",
      "source": [
        "import numpy as np\n",
        "arr = np.array([2, 5, 6, 7, 8, 9])\n",
        "\n",
        "n1 = np.searchsorted(arr, 5)\n",
        "print(n1)"
      ],
      "metadata": {
        "colab": {
          "base_uri": "https://localhost:8080/"
        },
        "id": "NnVKMsFcAX_l",
        "outputId": "3e445a22-ac1c-4e13-8966-a72c6a9c1297"
      },
      "execution_count": null,
      "outputs": [
        {
          "output_type": "stream",
          "name": "stdout",
          "text": [
            "1\n"
          ]
        }
      ]
    },
    {
      "cell_type": "code",
      "source": [
        "#Find the indexes where the values 3, 5, and 7 should be inserted:\n",
        "import numpy as np\n",
        "arr = np.array([1,2,4,6,8,9])\n",
        "\n",
        "n1 = np.searchsorted(arr,[3,5,7])\n",
        "print(n1)"
      ],
      "metadata": {
        "colab": {
          "base_uri": "https://localhost:8080/"
        },
        "id": "dLNtry6VB8ct",
        "outputId": "1e81d1ce-7a24-48e1-d7cf-03808e3dae88"
      },
      "execution_count": null,
      "outputs": [
        {
          "output_type": "stream",
          "name": "stdout",
          "text": [
            "[2 3 4]\n"
          ]
        }
      ]
    },
    {
      "cell_type": "markdown",
      "source": [
        "***► NumPy Sorting Arrays***"
      ],
      "metadata": {
        "id": "Q9sUmiuUCu7F"
      }
    },
    {
      "cell_type": "code",
      "source": [
        "import numpy as np\n",
        "n1 = np.array([1,3,8,0,6,77,-2])\n",
        "\n",
        "print(np.sort(n1))"
      ],
      "metadata": {
        "colab": {
          "base_uri": "https://localhost:8080/"
        },
        "id": "ripmx5b5CxEe",
        "outputId": "1742ae49-e36d-40bf-881d-80c166377155"
      },
      "execution_count": null,
      "outputs": [
        {
          "output_type": "stream",
          "name": "stdout",
          "text": [
            "[-2  0  1  3  6  8 77]\n"
          ]
        }
      ]
    },
    {
      "cell_type": "code",
      "source": [
        "import numpy as np\n",
        "n1 = np.array(['cat','boss', 'dog', 'apple'])\n",
        "\n",
        "print(np.sort(n1))"
      ],
      "metadata": {
        "colab": {
          "base_uri": "https://localhost:8080/"
        },
        "id": "QAk_3Q1-DOTw",
        "outputId": "2d04e19a-7810-40c1-b293-61127278b108"
      },
      "execution_count": null,
      "outputs": [
        {
          "output_type": "stream",
          "name": "stdout",
          "text": [
            "['apple' 'boss' 'cat' 'dog']\n"
          ]
        }
      ]
    },
    {
      "cell_type": "markdown",
      "source": [
        "***→ Sorting a 2-D Array***"
      ],
      "metadata": {
        "id": "qHDnCeLrDtO9"
      }
    },
    {
      "cell_type": "code",
      "source": [
        "import numpy as np\n",
        "\n",
        "arr = np.array([[3, 2, 14], [5, 0, 1]])\n",
        "\n",
        "print(np.sort(arr))"
      ],
      "metadata": {
        "colab": {
          "base_uri": "https://localhost:8080/"
        },
        "id": "bMzBw0n9DvXN",
        "outputId": "c43d0b71-c517-4720-e056-aa61965318d1"
      },
      "execution_count": null,
      "outputs": [
        {
          "output_type": "stream",
          "name": "stdout",
          "text": [
            "[[ 2  3 14]\n",
            " [ 0  1  5]]\n"
          ]
        }
      ]
    }
  ],
  "metadata": {
    "colab": {
      "name": "NumPy_Tutorial.ipynb",
      "provenance": []
    },
    "kernelspec": {
      "display_name": "Python 3",
      "name": "python3"
    },
    "language_info": {
      "name": "python"
    }
  },
  "nbformat": 4,
  "nbformat_minor": 0
}